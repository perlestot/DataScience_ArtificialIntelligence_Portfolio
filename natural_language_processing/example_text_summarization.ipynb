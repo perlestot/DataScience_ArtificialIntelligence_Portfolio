{
 "cells": [
  {
   "cell_type": "markdown",
   "metadata": {},
   "source": [
    "# Natural Language Processing - Text Summarization example"
   ]
  },
  {
   "cell_type": "markdown",
   "metadata": {},
   "source": [
    "###### Links: [CNN DailyMail (HuggingFace)](https://huggingface.co/datasets/cnn_dailymail)  |  [Article ()]()"
   ]
  },
  {
   "cell_type": "markdown",
   "metadata": {},
   "source": [
    "### 0 - Setup"
   ]
  },
  {
   "cell_type": "markdown",
   "metadata": {},
   "source": [
    "###### Import pckgs"
   ]
  },
  {
   "cell_type": "code",
   "execution_count": 1,
   "metadata": {},
   "outputs": [],
   "source": [
    "import warnings\n",
    "warnings.filterwarnings(\"ignore\")\n",
    "from nlp_utils import *"
   ]
  },
  {
   "cell_type": "markdown",
   "metadata": {},
   "source": [
    "###### Import data"
   ]
  },
  {
   "cell_type": "code",
   "execution_count": 2,
   "metadata": {},
   "outputs": [],
   "source": [
    "#import datasets\n",
    "#dataset = datasets.load_dataset(\"cnn_dailymail\", '3.0.0')\n",
    "\n",
    "#lst_dics = [dic for dic in dataset[\"train\"]]\n",
    "#dtf = pd.DataFrame(lst_dics).rename(columns={\"article\":\"text\", \"highlights\":\"y\"})[[\"text\",\"y\"]].head(50000)\n",
    "#dtf.to_csv(\"data_summary50.csv\", index=False)\n",
    "#dtf.head()"
   ]
  },
  {
   "cell_type": "code",
   "execution_count": 3,
   "metadata": {},
   "outputs": [
    {
     "data": {
      "text/html": [
       "<div>\n",
       "<style scoped>\n",
       "    .dataframe tbody tr th:only-of-type {\n",
       "        vertical-align: middle;\n",
       "    }\n",
       "\n",
       "    .dataframe tbody tr th {\n",
       "        vertical-align: top;\n",
       "    }\n",
       "\n",
       "    .dataframe thead th {\n",
       "        text-align: right;\n",
       "    }\n",
       "</style>\n",
       "<table border=\"1\" class=\"dataframe\">\n",
       "  <thead>\n",
       "    <tr style=\"text-align: right;\">\n",
       "      <th></th>\n",
       "      <th>text</th>\n",
       "      <th>y</th>\n",
       "    </tr>\n",
       "  </thead>\n",
       "  <tbody>\n",
       "    <tr>\n",
       "      <th>0</th>\n",
       "      <td>Ad sales boost Time Warner profit  Quarterly p...</td>\n",
       "      <td>TimeWarner said fourth quarter sales rose 2% t...</td>\n",
       "    </tr>\n",
       "    <tr>\n",
       "      <th>1</th>\n",
       "      <td>Dollar gains on Greenspan speech  The dollar h...</td>\n",
       "      <td>The dollar has hit its highest level against t...</td>\n",
       "    </tr>\n",
       "    <tr>\n",
       "      <th>2</th>\n",
       "      <td>Yukos unit buyer faces loan claim  The owners ...</td>\n",
       "      <td>Yukos' owner Menatep Group says it will ask Ro...</td>\n",
       "    </tr>\n",
       "    <tr>\n",
       "      <th>3</th>\n",
       "      <td>High fuel prices hit BA's profits  British Air...</td>\n",
       "      <td>Rod Eddington, BA's chief executive, said the ...</td>\n",
       "    </tr>\n",
       "    <tr>\n",
       "      <th>4</th>\n",
       "      <td>Pernod takeover talk lifts Domecq  Shares in U...</td>\n",
       "      <td>Pernod has reduced the debt it took on to fund...</td>\n",
       "    </tr>\n",
       "  </tbody>\n",
       "</table>\n",
       "</div>"
      ],
      "text/plain": [
       "                                                text  \\\n",
       "0  Ad sales boost Time Warner profit  Quarterly p...   \n",
       "1  Dollar gains on Greenspan speech  The dollar h...   \n",
       "2  Yukos unit buyer faces loan claim  The owners ...   \n",
       "3  High fuel prices hit BA's profits  British Air...   \n",
       "4  Pernod takeover talk lifts Domecq  Shares in U...   \n",
       "\n",
       "                                                   y  \n",
       "0  TimeWarner said fourth quarter sales rose 2% t...  \n",
       "1  The dollar has hit its highest level against t...  \n",
       "2  Yukos' owner Menatep Group says it will ask Ro...  \n",
       "3  Rod Eddington, BA's chief executive, said the ...  \n",
       "4  Pernod has reduced the debt it took on to fund...  "
      ]
     },
     "execution_count": 3,
     "metadata": {},
     "output_type": "execute_result"
    }
   ],
   "source": [
    "dtf = pd.read_csv(\"data_summary.csv\")\n",
    "dtf.head()"
   ]
  },
  {
   "cell_type": "code",
   "execution_count": 4,
   "metadata": {},
   "outputs": [
    {
     "name": "stdout",
     "output_type": "stream",
     "text": [
      "<class 'pandas.core.frame.DataFrame'>\n",
      "RangeIndex: 2214 entries, 0 to 2213\n",
      "Data columns (total 2 columns):\n",
      " #   Column  Non-Null Count  Dtype \n",
      "---  ------  --------------  ----- \n",
      " 0   text    2214 non-null   object\n",
      " 1   y       2214 non-null   object\n",
      "dtypes: object(2)\n",
      "memory usage: 34.7+ KB\n"
     ]
    }
   ],
   "source": [
    "dtf.info()"
   ]
  },
  {
   "cell_type": "code",
   "execution_count": 5,
   "metadata": {},
   "outputs": [
    {
     "name": "stdout",
     "output_type": "stream",
     "text": [
      "--- Full text ---\n",
      "Dollar gains on Greenspan speech  The dollar has hit its highest level against the euro in almost three months after the Federal Reserve head said the US trade deficit is set to stabilise.  And Alan Greenspan highlighted the US government's willingness to curb spending and rising household savings as factors which may help to reduce it. In late trading in New York, the dollar reached $1.2871 against the euro, from $1.2974 on Thursday. Market concerns about the deficit has hit the greenback in recent months. On Friday, Federal Reserve chairman Mr Greenspan's speech in London ahead of the meeting of G7 finance ministers sent the dollar higher after it had earlier tumbled on the back of worse-than-expected US jobs data. \"I think the chairman's taking a much more sanguine view on the current account deficit than he's taken for some time,\" said Robert Sinche, head of currency strategy at Bank of America in New York. \"He's taking a longer-term view, laying out a set of conditions under which the current account deficit can improve this year and next.\"  Worries about the deficit concerns about China do, however, remain. China's currency remains pegged to the dollar and the US currency's sharp falls in recent months have therefore made Chinese export prices highly competitive. But calls for a shift in Beijing's policy have fallen on deaf ears, despite recent comments in a major Chinese newspaper that the \"time is ripe\" for a loosening of the peg. The G7 meeting is thought unlikely to produce any meaningful movement in Chinese policy. In the meantime, the US Federal Reserve's decision on 2 February to boost interest rates by a quarter of a point - the sixth such move in as many months - has opened up a differential with European rates. The half-point window, some believe, could be enough to keep US assets looking more attractive, and could help prop up the dollar. The recent falls have partly been the result of big budget deficits, as well as the US's yawning current account gap, both of which need to be funded by the buying of US bonds and assets by foreign firms and governments. The White House will announce its budget on Monday, and many commentators believe the deficit will remain at close to half a trillion dollars.\n",
      " \n",
      "--- Summary ---\n",
      "The dollar has hit its highest level against the euro in almost three months after the Federal Reserve head said the US trade deficit is set to stabilise.China's currency remains pegged to the dollar and the US currency's sharp falls in recent months have therefore made Chinese export prices highly competitive.Market concerns about the deficit has hit the greenback in recent months.\"I think the chairman's taking a much more sanguine view on the current account deficit than he's taken for some time,\" said Robert Sinche, head of currency strategy at Bank of America in New York.The recent falls have partly been the result of big budget deficits, as well as the US's yawning current account gap, both of which need to be funded by the buying of US bonds and assets by foreign firms and governments.\"He's taking a longer-term view, laying out a set of conditions under which the current account deficit can improve this year and next.\"\n"
     ]
    }
   ],
   "source": [
    "# check\n",
    "i = 1\n",
    "print(\"--- Full text ---\")\n",
    "print(dtf[\"text\"][i])\n",
    "print(\" \")\n",
    "print(\"--- Summary ---\")\n",
    "print(dtf[\"y\"][i])"
   ]
  },
  {
   "cell_type": "markdown",
   "metadata": {},
   "source": [
    "### 1 - Text Analysis"
   ]
  },
  {
   "cell_type": "markdown",
   "metadata": {},
   "source": [
    "- Text cleaning\n",
    "- Word frequency\n",
    "- Length analysis"
   ]
  },
  {
   "cell_type": "markdown",
   "metadata": {},
   "source": [
    "###### Text cleaning"
   ]
  },
  {
   "cell_type": "code",
   "execution_count": 6,
   "metadata": {},
   "outputs": [],
   "source": [
    "lst_stopwords = create_stopwords()\n",
    "lst_stopwords = lst_stopwords + [\"cnn\",\"says\",\"said\",\"new\",\"say\"]"
   ]
  },
  {
   "cell_type": "code",
   "execution_count": 7,
   "metadata": {},
   "outputs": [
    {
     "data": {
      "text/html": [
       "<div>\n",
       "<style scoped>\n",
       "    .dataframe tbody tr th:only-of-type {\n",
       "        vertical-align: middle;\n",
       "    }\n",
       "\n",
       "    .dataframe tbody tr th {\n",
       "        vertical-align: top;\n",
       "    }\n",
       "\n",
       "    .dataframe thead th {\n",
       "        text-align: right;\n",
       "    }\n",
       "</style>\n",
       "<table border=\"1\" class=\"dataframe\">\n",
       "  <thead>\n",
       "    <tr style=\"text-align: right;\">\n",
       "      <th></th>\n",
       "      <th>text</th>\n",
       "      <th>y</th>\n",
       "      <th>text_clean</th>\n",
       "      <th>y_clean</th>\n",
       "    </tr>\n",
       "  </thead>\n",
       "  <tbody>\n",
       "    <tr>\n",
       "      <th>0</th>\n",
       "      <td>Ad sales boost Time Warner profit  Quarterly p...</td>\n",
       "      <td>TimeWarner said fourth quarter sales rose 2% t...</td>\n",
       "      <td>ad sales boost time warner profit quarterly pr...</td>\n",
       "      <td>timewarner fourth quarter sales rose 2 111bn 1...</td>\n",
       "    </tr>\n",
       "    <tr>\n",
       "      <th>1</th>\n",
       "      <td>Dollar gains on Greenspan speech  The dollar h...</td>\n",
       "      <td>The dollar has hit its highest level against t...</td>\n",
       "      <td>dollar gains greenspan speech dollar hit highe...</td>\n",
       "      <td>dollar hit highest level euro almost three mon...</td>\n",
       "    </tr>\n",
       "    <tr>\n",
       "      <th>2</th>\n",
       "      <td>Yukos unit buyer faces loan claim  The owners ...</td>\n",
       "      <td>Yukos' owner Menatep Group says it will ask Ro...</td>\n",
       "      <td>yukos unit buyer faces loan claim owners embat...</td>\n",
       "      <td>yukos owner menatep group ask rosneft repay lo...</td>\n",
       "    </tr>\n",
       "    <tr>\n",
       "      <th>3</th>\n",
       "      <td>High fuel prices hit BA's profits  British Air...</td>\n",
       "      <td>Rod Eddington, BA's chief executive, said the ...</td>\n",
       "      <td>high fuel prices hit bas profits british airwa...</td>\n",
       "      <td>rod eddington bas chief executive results resp...</td>\n",
       "    </tr>\n",
       "    <tr>\n",
       "      <th>4</th>\n",
       "      <td>Pernod takeover talk lifts Domecq  Shares in U...</td>\n",
       "      <td>Pernod has reduced the debt it took on to fund...</td>\n",
       "      <td>pernod takeover talk lifts domecq shares uk dr...</td>\n",
       "      <td>pernod reduced debt took fund seagram purchase...</td>\n",
       "    </tr>\n",
       "  </tbody>\n",
       "</table>\n",
       "</div>"
      ],
      "text/plain": [
       "                                                text  \\\n",
       "0  Ad sales boost Time Warner profit  Quarterly p...   \n",
       "1  Dollar gains on Greenspan speech  The dollar h...   \n",
       "2  Yukos unit buyer faces loan claim  The owners ...   \n",
       "3  High fuel prices hit BA's profits  British Air...   \n",
       "4  Pernod takeover talk lifts Domecq  Shares in U...   \n",
       "\n",
       "                                                   y  \\\n",
       "0  TimeWarner said fourth quarter sales rose 2% t...   \n",
       "1  The dollar has hit its highest level against t...   \n",
       "2  Yukos' owner Menatep Group says it will ask Ro...   \n",
       "3  Rod Eddington, BA's chief executive, said the ...   \n",
       "4  Pernod has reduced the debt it took on to fund...   \n",
       "\n",
       "                                          text_clean  \\\n",
       "0  ad sales boost time warner profit quarterly pr...   \n",
       "1  dollar gains greenspan speech dollar hit highe...   \n",
       "2  yukos unit buyer faces loan claim owners embat...   \n",
       "3  high fuel prices hit bas profits british airwa...   \n",
       "4  pernod takeover talk lifts domecq shares uk dr...   \n",
       "\n",
       "                                             y_clean  \n",
       "0  timewarner fourth quarter sales rose 2 111bn 1...  \n",
       "1  dollar hit highest level euro almost three mon...  \n",
       "2  yukos owner menatep group ask rosneft repay lo...  \n",
       "3  rod eddington bas chief executive results resp...  \n",
       "4  pernod reduced debt took fund seagram purchase...  "
      ]
     },
     "execution_count": 7,
     "metadata": {},
     "output_type": "execute_result"
    }
   ],
   "source": [
    "dtf = add_preprocessed_text(dtf, column=\"text\", punkt=True, lower=True, slang=True, lst_stopwords=lst_stopwords)\n",
    "dtf = add_preprocessed_text(dtf, column=\"y\", punkt=True, lower=True, slang=True, lst_stopwords=lst_stopwords)\n",
    "dtf.head()"
   ]
  },
  {
   "cell_type": "code",
   "execution_count": 8,
   "metadata": {},
   "outputs": [
    {
     "name": "stdout",
     "output_type": "stream",
     "text": [
      "--- Full text ---\n",
      "dollar gains greenspan speech dollar hit highest level euro almost three months federal reserve head us trade deficit set stabilise alan greenspan highlighted us governments willingness curb spending rising household savings factors may help reduce late trading york dollar reached 12871 euro 12974 thursday market concerns deficit hit greenback recent months friday federal reserve chairman mr greenspans speech london ahead meeting g7 finance ministers sent dollar higher earlier tumbled back worsethanexpected us jobs data think chairmans taking much sanguine view current account deficit hes taken time robert sinche head currency strategy bank america york hes taking longerterm view laying set conditions current account deficit improve year next worries deficit concerns china however remain chinas currency remains pegged dollar us currencys sharp falls recent months therefore made chinese export prices highly competitive calls shift beijings policy fallen deaf ears despite recent comments major chinese newspaper time ripe loosening peg g7 meeting thought unlikely produce meaningful movement chinese policy meantime us federal reserves decision 2 february boost interest rates quarter point sixth move many months opened differential european rates halfpoint window believe could enough keep us assets looking attractive could help prop dollar recent falls partly result big budget deficits well uss yawning current account gap need funded buying us bonds assets foreign firms governments white house announce budget monday many commentators believe deficit remain close half trillion dollars\n",
      " \n",
      "--- Summary ---\n",
      "dollar hit highest level euro almost three months federal reserve head us trade deficit set stabilise chinas currency remains pegged dollar us currencys sharp falls recent months therefore made chinese export prices highly competitive market concerns deficit hit greenback recent monthsi think chairmans taking much sanguine view current account deficit hes taken time robert sinche head currency strategy bank america york recent falls partly result big budget deficits well uss yawning current account gap need funded buying us bonds assets foreign firms governmentshes taking longerterm view laying set conditions current account deficit improve year next\n"
     ]
    }
   ],
   "source": [
    "# check\n",
    "print(\"--- Full text ---\")\n",
    "print(dtf[\"text_clean\"][i])\n",
    "print(\" \")\n",
    "print(\"--- Summary ---\")\n",
    "print(dtf[\"y_clean\"][i])"
   ]
  },
  {
   "cell_type": "markdown",
   "metadata": {},
   "source": [
    "###### Word frequency"
   ]
  },
  {
   "cell_type": "code",
   "execution_count": 9,
   "metadata": {},
   "outputs": [
    {
     "data": {
      "image/png": "[encoded data removed]",
      "text/plain": [
       "<Figure size 720x504 with 1 Axes>"
      ]
     },
     "metadata": {
      "needs_background": "light"
     },
     "output_type": "display_data"
    }
   ],
   "source": [
    "# Find most common words in text\n",
    "dtf_freq = word_freq(corpus=dtf[\"text_clean\"], ngrams=[1], top=30, figsize=(10,7))"
   ]
  },
  {
   "cell_type": "code",
   "execution_count": 10,
   "metadata": {},
   "outputs": [
    {
     "data": {
      "text/plain": [
       "9858"
      ]
     },
     "execution_count": 10,
     "metadata": {},
     "output_type": "execute_result"
    }
   ],
   "source": [
    "thres = 5\n",
    "X_top_words = len(dtf_freq[dtf_freq[\"freq\"]>thres])\n",
    "X_top_words"
   ]
  },
  {
   "cell_type": "code",
   "execution_count": 11,
   "metadata": {},
   "outputs": [
    {
     "data": {
      "image/png": "[encoded data removed]",
      "text/plain": [
       "<Figure size 720x504 with 1 Axes>"
      ]
     },
     "metadata": {
      "needs_background": "light"
     },
     "output_type": "display_data"
    }
   ],
   "source": [
    "# Find most common words in summaries\n",
    "dtf_freq = word_freq(corpus=dtf[\"y_clean\"], ngrams=[1], top=30, figsize=(10,7))"
   ]
  },
  {
   "cell_type": "code",
   "execution_count": 12,
   "metadata": {},
   "outputs": [
    {
     "data": {
      "text/plain": [
       "5771"
      ]
     },
     "execution_count": 12,
     "metadata": {},
     "output_type": "execute_result"
    }
   ],
   "source": [
    "thres = 5\n",
    "y_top_words = len(dtf_freq[dtf_freq[\"freq\"]>thres])\n",
    "y_top_words"
   ]
  },
  {
   "cell_type": "markdown",
   "metadata": {},
   "source": [
    "###### Length analysis"
   ]
  },
  {
   "cell_type": "code",
   "execution_count": 13,
   "metadata": {},
   "outputs": [
    {
     "name": "stdout",
     "output_type": "stream",
     "text": [
      "                            min         mean           max\n",
      "char_count           296.000000  1340.710479  13988.000000\n",
      "word_count            49.000000   217.623758   2201.000000\n",
      "sentence_count         1.000000     1.000000      1.000000\n",
      "avg_word_length        4.885906     6.149909      7.415966\n",
      "avg_sentence_lenght   49.000000   217.623758   2201.000000\n"
     ]
    }
   ],
   "source": [
    "# Texts\n",
    "X = add_text_length(dtf, \"text_clean\")"
   ]
  },
  {
   "cell_type": "code",
   "execution_count": 14,
   "metadata": {},
   "outputs": [
    {
     "data": {
      "image/png": "[encoded data removed]",
      "text/plain": [
       "<Figure size 720x216 with 1 Axes>"
      ]
     },
     "metadata": {
      "needs_background": "light"
     },
     "output_type": "display_data"
    }
   ],
   "source": [
    "plot_distributions(X, x=\"word_count\", figsize=(10,3))"
   ]
  },
  {
   "cell_type": "code",
   "execution_count": 15,
   "metadata": {},
   "outputs": [
    {
     "data": {
      "text/plain": [
       "217"
      ]
     },
     "execution_count": 15,
     "metadata": {},
     "output_type": "execute_result"
    }
   ],
   "source": [
    "X_avg_len = int(X[\"word_count\"].mean())\n",
    "X_avg_len"
   ]
  },
  {
   "cell_type": "code",
   "execution_count": 16,
   "metadata": {},
   "outputs": [
    {
     "name": "stdout",
     "output_type": "stream",
     "text": [
      "                            min        mean          max\n",
      "char_count           126.000000  601.886631  6904.000000\n",
      "word_count            20.000000   97.965673  1091.000000\n",
      "sentence_count         1.000000    1.000000     1.000000\n",
      "avg_word_length        4.787879    6.143275     7.891892\n",
      "avg_sentence_lenght   20.000000   97.965673  1091.000000\n"
     ]
    }
   ],
   "source": [
    "# Summaries\n",
    "y = add_text_length(dtf, \"y_clean\")"
   ]
  },
  {
   "cell_type": "code",
   "execution_count": 17,
   "metadata": {},
   "outputs": [
    {
     "data": {
      "image/png": "[encoded data removed]",
      "text/plain": [
       "<Figure size 720x216 with 1 Axes>"
      ]
     },
     "metadata": {
      "needs_background": "light"
     },
     "output_type": "display_data"
    }
   ],
   "source": [
    "plot_distributions(y, x=\"word_count\", max_cat=1, figsize=(10,3))"
   ]
  },
  {
   "cell_type": "code",
   "execution_count": 18,
   "metadata": {},
   "outputs": [
    {
     "data": {
      "text/plain": [
       "97"
      ]
     },
     "execution_count": 18,
     "metadata": {},
     "output_type": "execute_result"
    }
   ],
   "source": [
    "y_avg_len = int(y[\"word_count\"].mean())\n",
    "y_avg_len"
   ]
  },
  {
   "cell_type": "code",
   "execution_count": 19,
   "metadata": {},
   "outputs": [
    {
     "name": "stdout",
     "output_type": "stream",
     "text": [
      "min     0.159341\n",
      "mean    0.449893\n",
      "max     0.708661\n",
      "Name: ratio, dtype: float64\n"
     ]
    },
    {
     "data": {
      "image/png": "[encoded data removed]",
      "text/plain": [
       "<Figure size 720x216 with 1 Axes>"
      ]
     },
     "metadata": {
      "needs_background": "light"
     },
     "output_type": "display_data"
    }
   ],
   "source": [
    "# Ratio summary / text\n",
    "y[\"ratio\"] = y[\"word_count\"] / X[\"word_count\"]\n",
    "print(y[\"ratio\"].describe().T[[\"min\",\"mean\",\"max\"]])\n",
    "\n",
    "plot_distributions(y, x=\"ratio\", figsize=(10,3))"
   ]
  },
  {
   "cell_type": "code",
   "execution_count": 20,
   "metadata": {},
   "outputs": [
    {
     "data": {
      "text/plain": [
       "0.44989337989758454"
      ]
     },
     "execution_count": 20,
     "metadata": {},
     "output_type": "execute_result"
    }
   ],
   "source": [
    "ratio = y[\"ratio\"].mean()\n",
    "ratio"
   ]
  },
  {
   "cell_type": "markdown",
   "metadata": {},
   "source": [
    "###### Summary"
   ]
  },
  {
   "cell_type": "code",
   "execution_count": 21,
   "metadata": {},
   "outputs": [
    {
     "data": {
      "text/html": [
       "<div>\n",
       "<style scoped>\n",
       "    .dataframe tbody tr th:only-of-type {\n",
       "        vertical-align: middle;\n",
       "    }\n",
       "\n",
       "    .dataframe tbody tr th {\n",
       "        vertical-align: top;\n",
       "    }\n",
       "\n",
       "    .dataframe thead th {\n",
       "        text-align: right;\n",
       "    }\n",
       "</style>\n",
       "<table border=\"1\" class=\"dataframe\">\n",
       "  <thead>\n",
       "    <tr style=\"text-align: right;\">\n",
       "      <th></th>\n",
       "      <th>text</th>\n",
       "      <th>text_clean</th>\n",
       "      <th>y</th>\n",
       "      <th>y_clean</th>\n",
       "    </tr>\n",
       "  </thead>\n",
       "  <tbody>\n",
       "    <tr>\n",
       "      <th>0</th>\n",
       "      <td>Ad sales boost Time Warner profit  Quarterly p...</td>\n",
       "      <td>ad sales boost time warner profit quarterly pr...</td>\n",
       "      <td>TimeWarner said fourth quarter sales rose 2% t...</td>\n",
       "      <td>timewarner fourth quarter sales rose 2 111bn 1...</td>\n",
       "    </tr>\n",
       "    <tr>\n",
       "      <th>1</th>\n",
       "      <td>Dollar gains on Greenspan speech  The dollar h...</td>\n",
       "      <td>dollar gains greenspan speech dollar hit highe...</td>\n",
       "      <td>The dollar has hit its highest level against t...</td>\n",
       "      <td>dollar hit highest level euro almost three mon...</td>\n",
       "    </tr>\n",
       "    <tr>\n",
       "      <th>2</th>\n",
       "      <td>Yukos unit buyer faces loan claim  The owners ...</td>\n",
       "      <td>yukos unit buyer faces loan claim owners embat...</td>\n",
       "      <td>Yukos' owner Menatep Group says it will ask Ro...</td>\n",
       "      <td>yukos owner menatep group ask rosneft repay lo...</td>\n",
       "    </tr>\n",
       "    <tr>\n",
       "      <th>3</th>\n",
       "      <td>High fuel prices hit BA's profits  British Air...</td>\n",
       "      <td>high fuel prices hit bas profits british airwa...</td>\n",
       "      <td>Rod Eddington, BA's chief executive, said the ...</td>\n",
       "      <td>rod eddington bas chief executive results resp...</td>\n",
       "    </tr>\n",
       "    <tr>\n",
       "      <th>4</th>\n",
       "      <td>Pernod takeover talk lifts Domecq  Shares in U...</td>\n",
       "      <td>pernod takeover talk lifts domecq shares uk dr...</td>\n",
       "      <td>Pernod has reduced the debt it took on to fund...</td>\n",
       "      <td>pernod reduced debt took fund seagram purchase...</td>\n",
       "    </tr>\n",
       "  </tbody>\n",
       "</table>\n",
       "</div>"
      ],
      "text/plain": [
       "                                                text  \\\n",
       "0  Ad sales boost Time Warner profit  Quarterly p...   \n",
       "1  Dollar gains on Greenspan speech  The dollar h...   \n",
       "2  Yukos unit buyer faces loan claim  The owners ...   \n",
       "3  High fuel prices hit BA's profits  British Air...   \n",
       "4  Pernod takeover talk lifts Domecq  Shares in U...   \n",
       "\n",
       "                                          text_clean  \\\n",
       "0  ad sales boost time warner profit quarterly pr...   \n",
       "1  dollar gains greenspan speech dollar hit highe...   \n",
       "2  yukos unit buyer faces loan claim owners embat...   \n",
       "3  high fuel prices hit bas profits british airwa...   \n",
       "4  pernod takeover talk lifts domecq shares uk dr...   \n",
       "\n",
       "                                                   y  \\\n",
       "0  TimeWarner said fourth quarter sales rose 2% t...   \n",
       "1  The dollar has hit its highest level against t...   \n",
       "2  Yukos' owner Menatep Group says it will ask Ro...   \n",
       "3  Rod Eddington, BA's chief executive, said the ...   \n",
       "4  Pernod has reduced the debt it took on to fund...   \n",
       "\n",
       "                                             y_clean  \n",
       "0  timewarner fourth quarter sales rose 2 111bn 1...  \n",
       "1  dollar hit highest level euro almost three mon...  \n",
       "2  yukos owner menatep group ask rosneft repay lo...  \n",
       "3  rod eddington bas chief executive results resp...  \n",
       "4  pernod reduced debt took fund seagram purchase...  "
      ]
     },
     "execution_count": 21,
     "metadata": {},
     "output_type": "execute_result"
    }
   ],
   "source": [
    "dtf = dtf[[\"text\",\"text_clean\",\"y\",\"y_clean\"]]\n",
    "dtf.head()"
   ]
  },
  {
   "cell_type": "markdown",
   "metadata": {},
   "source": [
    "### 2 - Preprocessing"
   ]
  },
  {
   "cell_type": "code",
   "execution_count": 22,
   "metadata": {},
   "outputs": [
    {
     "data": {
      "text/html": [
       "<div>\n",
       "<style scoped>\n",
       "    .dataframe tbody tr th:only-of-type {\n",
       "        vertical-align: middle;\n",
       "    }\n",
       "\n",
       "    .dataframe tbody tr th {\n",
       "        vertical-align: top;\n",
       "    }\n",
       "\n",
       "    .dataframe thead th {\n",
       "        text-align: right;\n",
       "    }\n",
       "</style>\n",
       "<table border=\"1\" class=\"dataframe\">\n",
       "  <thead>\n",
       "    <tr style=\"text-align: right;\">\n",
       "      <th></th>\n",
       "      <th>text</th>\n",
       "      <th>text_clean</th>\n",
       "      <th>y</th>\n",
       "      <th>y_clean</th>\n",
       "    </tr>\n",
       "  </thead>\n",
       "  <tbody>\n",
       "    <tr>\n",
       "      <th>0</th>\n",
       "      <td>Ad sales boost Time Warner profit  Quarterly p...</td>\n",
       "      <td>ad sales boost time warner profit quarterly pr...</td>\n",
       "      <td>TimeWarner said fourth quarter sales rose 2% t...</td>\n",
       "      <td>timewarner fourth quarter sales rose 2 111bn 1...</td>\n",
       "    </tr>\n",
       "    <tr>\n",
       "      <th>1</th>\n",
       "      <td>Dollar gains on Greenspan speech  The dollar h...</td>\n",
       "      <td>dollar gains greenspan speech dollar hit highe...</td>\n",
       "      <td>The dollar has hit its highest level against t...</td>\n",
       "      <td>dollar hit highest level euro almost three mon...</td>\n",
       "    </tr>\n",
       "  </tbody>\n",
       "</table>\n",
       "</div>"
      ],
      "text/plain": [
       "                                                text  \\\n",
       "0  Ad sales boost Time Warner profit  Quarterly p...   \n",
       "1  Dollar gains on Greenspan speech  The dollar h...   \n",
       "\n",
       "                                          text_clean  \\\n",
       "0  ad sales boost time warner profit quarterly pr...   \n",
       "1  dollar gains greenspan speech dollar hit highe...   \n",
       "\n",
       "                                                   y  \\\n",
       "0  TimeWarner said fourth quarter sales rose 2% t...   \n",
       "1  The dollar has hit its highest level against t...   \n",
       "\n",
       "                                             y_clean  \n",
       "0  timewarner fourth quarter sales rose 2 111bn 1...  \n",
       "1  dollar hit highest level euro almost three mon...  "
      ]
     },
     "execution_count": 22,
     "metadata": {},
     "output_type": "execute_result"
    }
   ],
   "source": [
    "# Partitioning\n",
    "dtf_train = dtf.copy().iloc[i+1:]\n",
    "dtf_test = dtf.copy().iloc[:i+1]\n",
    "dtf_test"
   ]
  },
  {
   "cell_type": "markdown",
   "metadata": {},
   "source": [
    "### 3 - Baseline (Extractive: TextRank)"
   ]
  },
  {
   "cell_type": "code",
   "execution_count": 24,
   "metadata": {},
   "outputs": [],
   "source": [
    "# Test (no Train)\n",
    "predicted = textrank(corpus=dtf_test[\"text\"], ratio=ratio)"
   ]
  },
  {
   "cell_type": "code",
   "execution_count": 25,
   "metadata": {},
   "outputs": [
    {
     "name": "stdout",
     "output_type": "stream",
     "text": [
      "rouge1: 0.9 | rouge2: 0.85 | rougeL: 0.85 --> avg rouge: 0.88\n"
     ]
    }
   ],
   "source": [
    "# Evaluate\n",
    "evaluate_summary(dtf_test[\"y\"][i], predicted[i])"
   ]
  },
  {
   "cell_type": "code",
   "execution_count": 26,
   "metadata": {},
   "outputs": [
    {
     "data": {
      "text/html": [
       "<strong>Real Summary</strong><br><span style=\"background-color:rgba(255,215,0,0.3);\">The dollar has hit its highest level against the euro in almost three months after the Federal Reserve head said the US trade deficit is set to stabilise.</span> <span style=\"background-color:rgba(255,215,0,0.3);\">China's currency remains pegged to the dollar and the US currency's sharp falls in recent months have therefore made Chinese export prices highly competitive.</span> Market concerns about the deficit has hit the greenback in recent months. \"I think the chairman's taking a much more sanguine view on the current account deficit than he's taken for some time,\" said Robert Sinche, head of currency strategy at Bank of America in New York. <span style=\"background-color:rgba(255,215,0,0.3);\">The recent falls have partly been the result of big budget deficits, as well as the US's yawning current account gap, both of which need to be funded by the buying of US bonds and assets by foreign firms and governments.</span> <span style=\"background-color:rgba(255,215,0,0.3);\">\"He's taking a longer-term view, laying out a set of conditions under which the current account deficit can improve this year and next.\"</span><br><br><strong>Predicted Summary</strong><br>Dollar gains on Greenspan speech <span style=\"background-color:rgba(255,215,0,0.3);\">The dollar has hit its highest level against the euro in almost three months after the Federal Reserve head said the US trade deficit is set to stabilise.</span> \n",
       "\"I think the chairman's taking a much more sanguine view on the current account deficit than he's taken for some time,\" said Robert Sinche, head of currency strategy at Bank of America in New York. <span style=\"background-color:rgba(255,215,0,0.3);\">\"He's taking a longer-term view, laying out a set of conditions under which the current account deficit can improve this year and next.\"</span> Worries about the deficit concerns about China do, however, remain. <span style=\"background-color:rgba(255,215,0,0.3);\">China's currency remains pegged to the dollar and the US currency's sharp falls in recent months have therefore made Chinese export prices highly competitive.</span> <span style=\"background-color:rgba(255,215,0,0.3);\">The recent falls have partly been the result of big budget deficits, as well as the US's yawning current account gap, both of which need to be funded by the buying of US bonds and assets by foreign firms and governments.</span> \n",
       "The White House will announce its budget on Monday, and many commentators believe the deficit will remain at close to half a trillion dollars."
      ],
      "text/plain": [
       "<IPython.core.display.HTML object>"
      ]
     },
     "metadata": {},
     "output_type": "display_data"
    }
   ],
   "source": [
    "# Compare y_test and predicted\n",
    "match = display_string_matching(dtf_test[\"y\"][i], predicted[i], both=True, sentences=True, \n",
    "                                titles=[\"Real Summary\", \"Predicted Summary\"])\n",
    "\n",
    "from IPython.core.display import display, HTML\n",
    "display(HTML(match))"
   ]
  },
  {
   "cell_type": "code",
   "execution_count": 27,
   "metadata": {},
   "outputs": [
    {
     "data": {
      "text/html": [
       "<strong>Full Text</strong><br><span style=\"background-color:rgba(255,215,0,0.3);\">Dollar gains on Greenspan speech  The dollar has hit its highest level against the euro in almost three months after the Federal Reserve head said the US trade deficit is set to stabilise.</span>   And Alan Greenspan highlighted the US government's willingness to curb spending and rising household savings as factors which may help to reduce it. In late trading in New York, the dollar reached $1.2871 against the euro, from $1.2974 on Thursday. Market concerns about the deficit has hit the greenback in recent months. On Friday, Federal Reserve chairman Mr Greenspan's speech in London ahead of the meeting of G7 finance ministers sent the dollar higher after it had earlier tumbled on the back of worse-than-expected US jobs data. \"I think the chairman's taking a much more sanguine view on the current account deficit than he's taken for some time,\" said Robert Sinche, head of currency strategy at Bank of America in New York. <span style=\"background-color:rgba(255,215,0,0.3);\">\"He's taking a longer-term view, laying out a set of conditions under which the current account deficit can improve this year and next.\"</span> <span style=\"background-color:rgba(255,215,0,0.3);\">Worries about the deficit concerns about China do, however, remain.</span> <span style=\"background-color:rgba(255,215,0,0.3);\">China's currency remains pegged to the dollar and the US currency's sharp falls in recent months have therefore made Chinese export prices highly competitive.</span> But calls for a shift in Beijing's policy have fallen on deaf ears, despite recent comments in a major Chinese newspaper that the \"time is ripe\" for a loosening of the peg. The G7 meeting is thought unlikely to produce any meaningful movement in Chinese policy. In the meantime, the US Federal Reserve's decision on 2 February to boost interest rates by a quarter of a point - the sixth such move in as many months - has opened up a differential with European rates. The half-point window, some believe, could be enough to keep US assets looking more attractive, and could help prop up the dollar. <span style=\"background-color:rgba(255,215,0,0.3);\">The recent falls have partly been the result of big budget deficits, as well as the US's yawning current account gap, both of which need to be funded by the buying of US bonds and assets by foreign firms and governments.</span> <span style=\"background-color:rgba(255,215,0,0.3);\">The White House will announce its budget on Monday, and many commentators believe the deficit will remain at close to half a trillion dollars.</span><br><br><strong>Predicted Summary</strong><br><span style=\"background-color:rgba(255,215,0,0.3);\">Dollar gains on Greenspan speech  The dollar has hit its highest level against the euro in almost three months after the Federal Reserve head said the US trade deficit is set to stabilise.</span> \n",
       "\"I think the chairman's taking a much more sanguine view on the current account deficit than he's taken for some time,\" said Robert Sinche, head of currency strategy at Bank of America in New York. <span style=\"background-color:rgba(255,215,0,0.3);\">\"He's taking a longer-term view, laying out a set of conditions under which the current account deficit can improve this year and next.\"</span> <span style=\"background-color:rgba(255,215,0,0.3);\">Worries about the deficit concerns about China do, however, remain.</span> <span style=\"background-color:rgba(255,215,0,0.3);\">China's currency remains pegged to the dollar and the US currency's sharp falls in recent months have therefore made Chinese export prices highly competitive.</span> <span style=\"background-color:rgba(255,215,0,0.3);\">The recent falls have partly been the result of big budget deficits, as well as the US's yawning current account gap, both of which need to be funded by the buying of US bonds and assets by foreign firms and governments.</span> <span style=\"background-color:rgba(255,215,0,0.3);\">The White House will announce its budget on Monday, and many commentators believe the deficit will remain at close to half a trillion dollars.</span>"
      ],
      "text/plain": [
       "<IPython.core.display.HTML object>"
      ]
     },
     "metadata": {},
     "output_type": "display_data"
    }
   ],
   "source": [
    "# Explainability\n",
    "match = display_string_matching(dtf_test[\"text\"][i], predicted[i], both=True, sentences=True, \n",
    "                                titles=[\"Full Text\", \"Predicted Summary\"])\n",
    "\n",
    "from IPython.core.display import display, HTML\n",
    "display(HTML(match))"
   ]
  },
  {
   "cell_type": "markdown",
   "metadata": {},
   "source": [
    "### 4 - Model (Abstractive: Seq2Seq)"
   ]
  },
  {
   "cell_type": "markdown",
   "metadata": {},
   "source": [
    "###### Features Engineering"
   ]
  },
  {
   "cell_type": "code",
   "execution_count": 23,
   "metadata": {},
   "outputs": [
    {
     "name": "stdout",
     "output_type": "stream",
     "text": [
      "--- tokenization ---\n",
      "9859 words\n",
      "--- padding to sequence ---\n",
      "2212 sequences of length 217\n"
     ]
    },
    {
     "data": {
      "image/png": "[encoded data removed]",
      "text/plain": [
       "<Figure size 1080x360 with 1 Axes>"
      ]
     },
     "metadata": {
      "needs_background": "light"
     },
     "output_type": "display_data"
    }
   ],
   "source": [
    "# Create X_train for seq2seq (sequences of tokens)\n",
    "dic_seq = text2seq(corpus=dtf_train[\"text_clean\"], top=X_top_words, maxlen=X_avg_len)\n",
    "\n",
    "X_train, X_tokenizer, X_dic_vocabulary = dic_seq[\"X\"], dic_seq[\"tokenizer\"], dic_seq[\"dic_vocabulary\"]"
   ]
  },
  {
   "cell_type": "code",
   "execution_count": 24,
   "metadata": {},
   "outputs": [
    {
     "name": "stdout",
     "output_type": "stream",
     "text": [
      "--- tokenization ---\n",
      "--- padding to sequence ---\n",
      "2 sequences of length 217\n"
     ]
    },
    {
     "data": {
      "image/png": "[encoded data removed]",
      "text/plain": [
       "<Figure size 1080x360 with 1 Axes>"
      ]
     },
     "metadata": {
      "needs_background": "light"
     },
     "output_type": "display_data"
    }
   ],
   "source": [
    "# Preprocess X_test with the same tokenizer\n",
    "X_test = text2seq(corpus=dtf_test[\"text_clean\"], fitted_tokenizer=X_tokenizer, maxlen=X_train.shape[1])"
   ]
  },
  {
   "cell_type": "code",
   "execution_count": 25,
   "metadata": {},
   "outputs": [
    {
     "data": {
      "text/plain": [
       "'<START> dollar hit highest level euro almost three months federal reserve head us trade deficit set stabilise chinas currency remains pegged dollar us currencys sharp falls recent months therefore made chinese export prices highly competitive market concerns deficit hit greenback recent monthsi think chairmans taking much sanguine view current account deficit hes taken time robert sinche head currency strategy bank america york recent falls partly result big budget deficits well uss yawning current account gap need funded buying us bonds assets foreign firms governmentshes taking longerterm view laying set conditions current account deficit improve year next <END>'"
      ]
     },
     "execution_count": 25,
     "metadata": {},
     "output_type": "execute_result"
    }
   ],
   "source": [
    "# Add START and END tokens to the summaries (y)\n",
    "special_tokens = (\"<START>\", \"<END>\")\n",
    "dtf_train[\"y_clean\"] = dtf_train['y_clean'].apply(lambda x: special_tokens[0]+' '+x+' '+special_tokens[1])\n",
    "dtf_test[\"y_clean\"] = dtf_test['y_clean'].apply(lambda x: special_tokens[0]+' '+x+' '+special_tokens[1])\n",
    "dtf_test[\"y_clean\"][i]"
   ]
  },
  {
   "cell_type": "code",
   "execution_count": 26,
   "metadata": {},
   "outputs": [
    {
     "name": "stdout",
     "output_type": "stream",
     "text": [
      "--- tokenization ---\n",
      "5772 words\n",
      "--- padding to sequence ---\n",
      "2212 sequences of length 97\n"
     ]
    },
    {
     "data": {
      "image/png": "[encoded data removed]",
      "text/plain": [
       "<Figure size 1080x360 with 1 Axes>"
      ]
     },
     "metadata": {
      "needs_background": "light"
     },
     "output_type": "display_data"
    }
   ],
   "source": [
    "# Tokenize the summaries (y_train)\n",
    "dic_seq = text2seq(corpus=dtf_train[\"y_clean\"], top=y_top_words, maxlen=y_avg_len)\n",
    "\n",
    "y_train, y_tokenizer, y_dic_vocabulary = dic_seq[\"X\"], dic_seq[\"tokenizer\"], dic_seq[\"dic_vocabulary\"]"
   ]
  },
  {
   "cell_type": "code",
   "execution_count": 27,
   "metadata": {},
   "outputs": [
    {
     "name": "stdout",
     "output_type": "stream",
     "text": [
      "--- tokenization ---\n",
      "--- padding to sequence ---\n",
      "2 sequences of length 97\n"
     ]
    },
    {
     "data": {
      "image/png": "[encoded data removed]",
      "text/plain": [
       "<Figure size 1080x360 with 1 Axes>"
      ]
     },
     "metadata": {
      "needs_background": "light"
     },
     "output_type": "display_data"
    }
   ],
   "source": [
    "# Preprocess y_test with the same tokenizer\n",
    "y_test = text2seq(corpus=dtf_test[\"y_clean\"], fitted_tokenizer=y_tokenizer, maxlen=y_train.shape[1])"
   ]
  },
  {
   "cell_type": "markdown",
   "metadata": {},
   "source": [
    "###### Create Embedding Weights"
   ]
  },
  {
   "cell_type": "code",
   "execution_count": 28,
   "metadata": {},
   "outputs": [],
   "source": [
    "# Load pre-trained Word2Vec\n",
    "nlp = gensim_api.load(\"glove-wiki-gigaword-300\")"
   ]
  },
  {
   "cell_type": "code",
   "execution_count": 29,
   "metadata": {},
   "outputs": [],
   "source": [
    "# Or train Word2Vec from scratch\n",
    "#corpus =  dtf_train[\"text_clean\"].append(dtf_train[\"y_clean\"])\n",
    "#lst_corpus, nlp = fit_w2v(corpus=corpus, min_count=1, size=300, window=y_avg_len)"
   ]
  },
  {
   "cell_type": "code",
   "execution_count": 30,
   "metadata": {},
   "outputs": [
    {
     "data": {
      "text/plain": [
       "(300,)"
      ]
     },
     "execution_count": 30,
     "metadata": {},
     "output_type": "execute_result"
    }
   ],
   "source": [
    "# check nlp model\n",
    "word = \"home\"\n",
    "nlp[word].shape"
   ]
  },
  {
   "cell_type": "code",
   "execution_count": 31,
   "metadata": {},
   "outputs": [
    {
     "name": "stdout",
     "output_type": "stream",
     "text": [
      "vocabulary mapped to 9860 vectors of size 300\n"
     ]
    },
    {
     "data": {
      "text/plain": [
       "(9860, 300)"
      ]
     },
     "execution_count": 31,
     "metadata": {},
     "output_type": "execute_result"
    }
   ],
   "source": [
    "X_embeddings = vocabulary_embeddings(X_dic_vocabulary, nlp)\n",
    "X_embeddings.shape"
   ]
  },
  {
   "cell_type": "code",
   "execution_count": 32,
   "metadata": {},
   "outputs": [
    {
     "name": "stdout",
     "output_type": "stream",
     "text": [
      "vocabulary mapped to 5773 vectors of size 300\n"
     ]
    },
    {
     "data": {
      "text/plain": [
       "(5773, 300)"
      ]
     },
     "execution_count": 32,
     "metadata": {},
     "output_type": "execute_result"
    }
   ],
   "source": [
    "y_embeddings = vocabulary_embeddings(y_dic_vocabulary, nlp)\n",
    "y_embeddings.shape"
   ]
  },
  {
   "cell_type": "markdown",
   "metadata": {},
   "source": [
    "###### Model Design"
   ]
  },
  {
   "cell_type": "code",
   "execution_count": 33,
   "metadata": {},
   "outputs": [
    {
     "name": "stdout",
     "output_type": "stream",
     "text": [
      "Model: \"Seq2Seq\"\n",
      "__________________________________________________________________________________________________\n",
      "Layer (type)                    Output Shape         Param #     Connected to                     \n",
      "==================================================================================================\n",
      "x_in (InputLayer)               [(None, 217)]        0                                            \n",
      "__________________________________________________________________________________________________\n",
      "y_in (InputLayer)               [(None, None)]       0                                            \n",
      "__________________________________________________________________________________________________\n",
      "x_emb (Embedding)               (None, 217, 300)     2958000     x_in[0][0]                       \n",
      "__________________________________________________________________________________________________\n",
      "y_emb (Embedding)               (None, None, 300)    1731900     y_in[0][0]                       \n",
      "__________________________________________________________________________________________________\n",
      "x_lstm (LSTM)                   [(None, 217, 250), ( 551000      x_emb[0][0]                      \n",
      "__________________________________________________________________________________________________\n",
      "y_lstm (LSTM)                   [(None, None, 250),  551000      y_emb[0][0]                      \n",
      "                                                                 x_lstm[0][1]                     \n",
      "                                                                 x_lstm[0][2]                     \n",
      "__________________________________________________________________________________________________\n",
      "dense (TimeDistributed)         (None, None, 5773)   1449023     y_lstm[0][0]                     \n",
      "==================================================================================================\n",
      "Total params: 7,240,923\n",
      "Trainable params: 2,551,023\n",
      "Non-trainable params: 4,689,900\n",
      "__________________________________________________________________________________________________\n"
     ]
    }
   ],
   "source": [
    "# Simple Seq2Seq\n",
    "lstm_units = 250\n",
    "\n",
    "##------------ ENCODER (embedding + lstm) ------------------------------##\n",
    "x_in = layers.Input(name=\"x_in\", shape=(X_train.shape[1],))\n",
    "### embedding\n",
    "layer_x_emb = layers.Embedding(name=\"x_emb\", input_dim=X_embeddings.shape[0], output_dim=X_embeddings.shape[1], \n",
    "                               weights=[X_embeddings], trainable=False)\n",
    "x_emb = layer_x_emb(x_in)\n",
    "### lstm \n",
    "layer_x_lstm = layers.LSTM(name=\"x_lstm\", units=lstm_units, dropout=0.2, return_sequences=True, return_state=True)\n",
    "x_out, state_h, state_c = layer_x_lstm(x_emb)\n",
    "\n",
    "##------------ DECODER (embedding + lstm + dense) ---------------------##\n",
    "y_in = layers.Input(name=\"y_in\", shape=(None,))\n",
    "### embedding\n",
    "layer_y_emb = layers.Embedding(name=\"y_emb\", input_dim=y_embeddings.shape[0], output_dim=y_embeddings.shape[1], \n",
    "                               weights=[y_embeddings], trainable=False)\n",
    "y_emb = layer_y_emb(y_in)\n",
    "### lstm \n",
    "layer_y_lstm = layers.LSTM(name=\"y_lstm\", units=lstm_units, dropout=0.2, return_sequences=True, return_state=True)\n",
    "y_out, _, _ = layer_y_lstm(y_emb, initial_state=[state_h, state_c])\n",
    "### final dense layers\n",
    "layer_dense = layers.TimeDistributed(name=\"dense\", \n",
    "                                     layer=layers.Dense(units=y_embeddings.shape[0], activation='softmax'))\n",
    "y_out = layer_dense(y_out)\n",
    "\n",
    "##---------------------------- COMPILE -------------------------------##\n",
    "model = models.Model(inputs=[x_in, y_in], outputs=y_out, name=\"Seq2Seq\")\n",
    "model.compile(optimizer='rmsprop', loss='sparse_categorical_crossentropy', metrics=['accuracy'])\n",
    "\n",
    "model.summary()"
   ]
  },
  {
   "cell_type": "code",
   "execution_count": 91,
   "metadata": {},
   "outputs": [
    {
     "name": "stdout",
     "output_type": "stream",
     "text": [
      "KerasTensor(type_spec=TensorSpec(shape=(None, None, 500), dtype=tf.float32, name=None), name='y_lstm/PartitionedCall:1', description=\"created by layer 'y_lstm'\")\n",
      "Model: \"Seq2Seq\"\n",
      "__________________________________________________________________________________________________\n",
      "Layer (type)                    Output Shape         Param #     Connected to                     \n",
      "==================================================================================================\n",
      "x_in (InputLayer)               [(None, 217)]        0                                            \n",
      "__________________________________________________________________________________________________\n",
      "x_emb (Embedding)               (None, 217, 300)     2958000     x_in[0][0]                       \n",
      "__________________________________________________________________________________________________\n",
      "x_lstm_1 (Bidirectional)        [(None, 217, 500), ( 1102000     x_emb[0][0]                      \n",
      "__________________________________________________________________________________________________\n",
      "x_lstm_2 (Bidirectional)        [(None, 217, 500), ( 1502000     x_lstm_1[0][0]                   \n",
      "__________________________________________________________________________________________________\n",
      "y_in (InputLayer)               [(None, None)]       0                                            \n",
      "__________________________________________________________________________________________________\n",
      "x_lstm_3 (Bidirectional)        [(None, 217, 500), ( 1502000     x_lstm_2[0][0]                   \n",
      "__________________________________________________________________________________________________\n",
      "y_emb (Embedding)               (None, None, 300)    1731900     y_in[0][0]                       \n",
      "__________________________________________________________________________________________________\n",
      "concatenate_56 (Concatenate)    (None, 500)          0           x_lstm_3[0][1]                   \n",
      "                                                                 x_lstm_3[0][3]                   \n",
      "__________________________________________________________________________________________________\n",
      "concatenate_57 (Concatenate)    (None, 500)          0           x_lstm_3[0][2]                   \n",
      "                                                                 x_lstm_3[0][4]                   \n",
      "__________________________________________________________________________________________________\n",
      "y_lstm (LSTM)                   [(None, None, 500),  1602000     y_emb[0][0]                      \n",
      "                                                                 concatenate_56[0][0]             \n",
      "                                                                 concatenate_57[0][0]             \n",
      "__________________________________________________________________________________________________\n",
      "dense (TimeDistributed)         (None, None, 5773)   2892273     y_lstm[0][0]                     \n",
      "==================================================================================================\n",
      "Total params: 13,290,173\n",
      "Trainable params: 8,600,273\n",
      "Non-trainable params: 4,689,900\n",
      "__________________________________________________________________________________________________\n"
     ]
    }
   ],
   "source": [
    "# Seq2Seq with Embedding + Bi-LSTM + Attention layers\n",
    "lstm_units = 250\n",
    "\n",
    "##------------ ENCODER (embedding + 3 lstm) ------------------------------##\n",
    "x_in = layers.Input(name=\"x_in\", shape=(X_train.shape[1],))\n",
    "### embedding\n",
    "layer_x_emb = layers.Embedding(name=\"x_emb\", input_dim=X_embeddings.shape[0], output_dim=X_embeddings.shape[1], \n",
    "                               weights=[X_embeddings], trainable=False)\n",
    "x_emb = layer_x_emb(x_in)\n",
    "### bi-lstm 1\n",
    "layer_x_bilstm = layers.Bidirectional(layers.LSTM(units=lstm_units, dropout=0.2, return_sequences=True, return_state=True), \n",
    "                                      name=\"x_lstm_1\")\n",
    "x_out, _, _, _, _ = layer_x_bilstm(x_emb)\n",
    "### bi-lstm 2\n",
    "layer_x_bilstm = layers.Bidirectional(layers.LSTM(units=lstm_units, dropout=0.2, return_sequences=True, return_state=True),\n",
    "                                      name=\"x_lstm_2\")\n",
    "x_out, _, _, _, _ = layer_x_bilstm(x_out)\n",
    "### bi-lstm 3 (here final states are collected)\n",
    "layer_x_bilstm = layers.Bidirectional(layers.LSTM(units=lstm_units, dropout=0.2, return_sequences=True, return_state=True),\n",
    "                                      name=\"x_lstm_3\")\n",
    "x_out, forward_h, forward_c, backward_h, backward_c = layer_x_bilstm(x_out)\n",
    "state_h = layers.Concatenate()([forward_h, backward_h])\n",
    "state_c = layers.Concatenate()([forward_c, backward_c])\n",
    "\n",
    "##------------ DECODER (embedding + lstm + attention + dense) ------------##\n",
    "y_in = layers.Input(name=\"y_in\", shape=(None,))\n",
    "### embedding\n",
    "layer_y_emb = layers.Embedding(name=\"y_emb\", input_dim=y_embeddings.shape[0], output_dim=y_embeddings.shape[1], \n",
    "                               weights=[y_embeddings], trainable=False)\n",
    "y_emb = layer_y_emb(y_in)\n",
    "### lstm\n",
    "layer_y_lstm = layers.LSTM(name=\"y_lstm\", units=lstm_units*2, dropout=0.2, return_sequences=True, return_state=True)\n",
    "y_out, _, _ = layer_y_lstm(y_emb, initial_state=[state_h, state_c])\n",
    "### attention\n",
    "#x = layers.Attention()([x_out, y_out])\n",
    "#merge = layers.Concatenate(name='merge', axis=-1)([y_out, y_emb])\n",
    "### final dense layers\n",
    "layer_dense = layers.TimeDistributed(name=\"dense\", \n",
    "                                     layer=layers.Dense(units=y_embeddings.shape[0], activation='softmax'))\n",
    "y_out = layer_dense(y_out)\n",
    "\n",
    "##---------------------------- COMPILE ----------------------------------##\n",
    "model = models.Model(inputs=[x_in, y_in], outputs=y_out, name=\"Seq2Seq\")\n",
    "model.compile(optimizer='rmsprop', loss='sparse_categorical_crossentropy', metrics=['accuracy'])\n",
    "\n",
    "model.summary()"
   ]
  },
  {
   "cell_type": "code",
   "execution_count": 64,
   "metadata": {},
   "outputs": [
    {
     "data": {
      "text/plain": [
       "<tf.Tensor: shape=(1, 5, 3), dtype=int32, numpy=\n",
       "array([[[1, 2, 3],\n",
       "        [4, 5, 6],\n",
       "        [0, 0, 0],\n",
       "        [0, 0, 0],\n",
       "        [0, 0, 0]]])>"
      ]
     },
     "execution_count": 64,
     "metadata": {},
     "output_type": "execute_result"
    }
   ],
   "source": [
    "import tensorflow as tf\n",
    "tf.pad(x, tf.constant([[0,0],[0,3],[0,0]]), \"CONSTANT\")"
   ]
  },
  {
   "cell_type": "code",
   "execution_count": 90,
   "metadata": {},
   "outputs": [
    {
     "name": "stdout",
     "output_type": "stream",
     "text": [
      "KerasTensor(type_spec=TensorSpec(shape=(None, 217, 1000), dtype=tf.float32, name=None), name='merge/concat:0', description=\"created by layer 'merge'\")\n",
      "Model: \"Seq2Seq\"\n",
      "__________________________________________________________________________________________________\n",
      "Layer (type)                    Output Shape         Param #     Connected to                     \n",
      "==================================================================================================\n",
      "x_in (InputLayer)               [(None, 217)]        0                                            \n",
      "__________________________________________________________________________________________________\n",
      "x_emb (Embedding)               (None, 217, 300)     2958000     x_in[0][0]                       \n",
      "__________________________________________________________________________________________________\n",
      "x_lstm_1 (Bidirectional)        [(None, 217, 500), ( 1102000     x_emb[0][0]                      \n",
      "__________________________________________________________________________________________________\n",
      "x_lstm_2 (Bidirectional)        [(None, 217, 500), ( 1502000     x_lstm_1[0][0]                   \n",
      "__________________________________________________________________________________________________\n",
      "y_in (InputLayer)               [(None, None)]       0                                            \n",
      "__________________________________________________________________________________________________\n",
      "x_lstm_3 (Bidirectional)        [(None, 217, 500), ( 1502000     x_lstm_2[0][0]                   \n",
      "__________________________________________________________________________________________________\n",
      "y_emb (Embedding)               (None, None, 300)    1731900     y_in[0][0]                       \n",
      "__________________________________________________________________________________________________\n",
      "concatenate_54 (Concatenate)    (None, 500)          0           x_lstm_3[0][1]                   \n",
      "                                                                 x_lstm_3[0][3]                   \n",
      "__________________________________________________________________________________________________\n",
      "concatenate_55 (Concatenate)    (None, 500)          0           x_lstm_3[0][2]                   \n",
      "                                                                 x_lstm_3[0][4]                   \n",
      "__________________________________________________________________________________________________\n",
      "y_lstm (LSTM)                   [(None, None, 500),  1602000     y_emb[0][0]                      \n",
      "                                                                 concatenate_54[0][0]             \n",
      "                                                                 concatenate_55[0][0]             \n",
      "__________________________________________________________________________________________________\n",
      "tf.compat.v1.pad_8 (TFOpLambda) (None, None, 500)    0           y_lstm[0][0]                     \n",
      "__________________________________________________________________________________________________\n",
      "attention (Attention)           (None, 217, 500)     0           x_lstm_3[0][0]                   \n",
      "                                                                 y_lstm[0][0]                     \n",
      "__________________________________________________________________________________________________\n",
      "merge (Concatenate)             (None, 217, 1000)    0           tf.compat.v1.pad_8[0][0]         \n",
      "                                                                 attention[0][0]                  \n",
      "__________________________________________________________________________________________________\n",
      "dense (TimeDistributed)         (None, 217, 5773)    5778773     merge[0][0]                      \n",
      "==================================================================================================\n",
      "Total params: 16,176,673\n",
      "Trainable params: 11,486,773\n",
      "Non-trainable params: 4,689,900\n",
      "__________________________________________________________________________________________________\n"
     ]
    }
   ],
   "source": [
    "# Seq2Seq with Embedding + Bi-LSTM + Attention layers\n",
    "lstm_units = 250\n",
    "\n",
    "##------------ ENCODER (embedding + 3 lstm) ------------------------------##\n",
    "x_in = layers.Input(name=\"x_in\", shape=(X_train.shape[1],))\n",
    "### embedding\n",
    "layer_x_emb = layers.Embedding(name=\"x_emb\", input_dim=X_embeddings.shape[0], output_dim=X_embeddings.shape[1], \n",
    "                               weights=[X_embeddings], trainable=False)\n",
    "x_emb = layer_x_emb(x_in)\n",
    "### bi-lstm 1\n",
    "layer_x_bilstm = layers.Bidirectional(layers.LSTM(units=lstm_units, dropout=0.2, return_sequences=True, return_state=True), \n",
    "                                      name=\"x_lstm_1\")\n",
    "x_out, _, _, _, _ = layer_x_bilstm(x_emb)\n",
    "### bi-lstm 2\n",
    "layer_x_bilstm = layers.Bidirectional(layers.LSTM(units=lstm_units, dropout=0.2, return_sequences=True, return_state=True),\n",
    "                                      name=\"x_lstm_2\")\n",
    "x_out, _, _, _, _ = layer_x_bilstm(x_out)\n",
    "### bi-lstm 3 (here final states are collected)\n",
    "layer_x_bilstm = layers.Bidirectional(layers.LSTM(units=lstm_units, dropout=0.2, return_sequences=True, return_state=True),\n",
    "                                      name=\"x_lstm_3\")\n",
    "x_out, forward_h, forward_c, backward_h, backward_c = layer_x_bilstm(x_out)\n",
    "state_h = layers.Concatenate()([forward_h, backward_h])\n",
    "state_c = layers.Concatenate()([forward_c, backward_c])\n",
    "\n",
    "##------------ DECODER (embedding + lstm + attention + dense) ------------##\n",
    "y_in = layers.Input(name=\"y_in\", shape=(None,))\n",
    "### embedding\n",
    "layer_y_emb = layers.Embedding(name=\"y_emb\", input_dim=y_embeddings.shape[0], output_dim=y_embeddings.shape[1], \n",
    "                               weights=[y_embeddings], trainable=False)\n",
    "y_emb = layer_y_emb(y_in)\n",
    "### lstm\n",
    "layer_y_lstm = layers.LSTM(name=\"y_lstm\", units=lstm_units*2, dropout=0.2, return_sequences=True, return_state=True)\n",
    "y_out, _, _ = layer_y_lstm(y_emb, initial_state=[state_h, state_c])\n",
    "\n",
    "### attention\n",
    "layer_attention = layers.Attention(name='attention')\n",
    "attention = layer_attention([x_out, y_out])\n",
    "ttt = tf.pad(y_out, tf.constant([[0,0],[0,217-96],[0,0]]), \"CONSTANT\")\n",
    "merge = layers.Concatenate(name='merge')([y_out, attention])\n",
    "merge = layers.Concatenate(name='merge')([ttt, attention])\n",
    "print(merge)\n",
    "\n",
    "### final dense layers\n",
    "layer_dense = layers.TimeDistributed(name=\"dense\", \n",
    "                                     layer=layers.Dense(units=y_embeddings.shape[0], activation='softmax'))\n",
    "y_out = layer_dense(merge)\n",
    "\n",
    "##---------------------------- COMPILE ----------------------------------##\n",
    "model = models.Model(inputs=[x_in, y_in], outputs=y_out, name=\"Seq2Seq\")\n",
    "model.compile(optimizer='rmsprop', loss='sparse_categorical_crossentropy', metrics=['accuracy'])\n",
    "\n",
    "model.summary()"
   ]
  },
  {
   "cell_type": "markdown",
   "metadata": {},
   "source": [
    "###### Train"
   ]
  },
  {
   "cell_type": "code",
   "execution_count": 82,
   "metadata": {
    "scrolled": true
   },
   "outputs": [
    {
     "ename": "ValueError",
     "evalue": "in user code:\n\n    C:\\profili\\U382270\\Downloads\\my\\anaconda\\envs\\env1\\lib\\site-packages\\keras\\engine\\training.py:853 train_function  *\n        return step_function(self, iterator)\n    C:\\profili\\U382270\\Downloads\\my\\anaconda\\envs\\env1\\lib\\site-packages\\keras\\engine\\training.py:842 step_function  **\n        outputs = model.distribute_strategy.run(run_step, args=(data,))\n    C:\\profili\\U382270\\Downloads\\my\\anaconda\\envs\\env1\\lib\\site-packages\\tensorflow\\python\\distribute\\distribute_lib.py:1286 run\n        return self._extended.call_for_each_replica(fn, args=args, kwargs=kwargs)\n    C:\\profili\\U382270\\Downloads\\my\\anaconda\\envs\\env1\\lib\\site-packages\\tensorflow\\python\\distribute\\distribute_lib.py:2849 call_for_each_replica\n        return self._call_for_each_replica(fn, args, kwargs)\n    C:\\profili\\U382270\\Downloads\\my\\anaconda\\envs\\env1\\lib\\site-packages\\tensorflow\\python\\distribute\\distribute_lib.py:3632 _call_for_each_replica\n        return fn(*args, **kwargs)\n    C:\\profili\\U382270\\Downloads\\my\\anaconda\\envs\\env1\\lib\\site-packages\\keras\\engine\\training.py:835 run_step  **\n        outputs = model.train_step(data)\n    C:\\profili\\U382270\\Downloads\\my\\anaconda\\envs\\env1\\lib\\site-packages\\keras\\engine\\training.py:792 train_step\n        self.compiled_metrics.update_state(y, y_pred, sample_weight)\n    C:\\profili\\U382270\\Downloads\\my\\anaconda\\envs\\env1\\lib\\site-packages\\keras\\engine\\compile_utils.py:457 update_state\n        metric_obj.update_state(y_t, y_p, sample_weight=mask)\n    C:\\profili\\U382270\\Downloads\\my\\anaconda\\envs\\env1\\lib\\site-packages\\keras\\utils\\metrics_utils.py:73 decorated\n        update_op = update_state_fn(*args, **kwargs)\n    C:\\profili\\U382270\\Downloads\\my\\anaconda\\envs\\env1\\lib\\site-packages\\keras\\metrics.py:177 update_state_fn\n        return ag_update_state(*args, **kwargs)\n    C:\\profili\\U382270\\Downloads\\my\\anaconda\\envs\\env1\\lib\\site-packages\\keras\\metrics.py:681 update_state  **\n        matches = ag_fn(y_true, y_pred, **self._fn_kwargs)\n    C:\\profili\\U382270\\Downloads\\my\\anaconda\\envs\\env1\\lib\\site-packages\\tensorflow\\python\\util\\dispatch.py:206 wrapper\n        return target(*args, **kwargs)\n    C:\\profili\\U382270\\Downloads\\my\\anaconda\\envs\\env1\\lib\\site-packages\\keras\\metrics.py:3537 sparse_categorical_accuracy\n        return tf.cast(tf.equal(y_true, y_pred), backend.floatx())\n    C:\\profili\\U382270\\Downloads\\my\\anaconda\\envs\\env1\\lib\\site-packages\\tensorflow\\python\\util\\dispatch.py:206 wrapper\n        return target(*args, **kwargs)\n    C:\\profili\\U382270\\Downloads\\my\\anaconda\\envs\\env1\\lib\\site-packages\\tensorflow\\python\\ops\\math_ops.py:1864 equal\n        return gen_math_ops.equal(x, y, name=name)\n    C:\\profili\\U382270\\Downloads\\my\\anaconda\\envs\\env1\\lib\\site-packages\\tensorflow\\python\\ops\\gen_math_ops.py:3216 equal\n        _, _, _op, _outputs = _op_def_library._apply_op_helper(\n    C:\\profili\\U382270\\Downloads\\my\\anaconda\\envs\\env1\\lib\\site-packages\\tensorflow\\python\\framework\\op_def_library.py:748 _apply_op_helper\n        op = g._create_op_internal(op_type_name, inputs, dtypes=None,\n    C:\\profili\\U382270\\Downloads\\my\\anaconda\\envs\\env1\\lib\\site-packages\\tensorflow\\python\\framework\\func_graph.py:599 _create_op_internal\n        return super(FuncGraph, self)._create_op_internal(  # pylint: disable=protected-access\n    C:\\profili\\U382270\\Downloads\\my\\anaconda\\envs\\env1\\lib\\site-packages\\tensorflow\\python\\framework\\ops.py:3561 _create_op_internal\n        ret = Operation(\n    C:\\profili\\U382270\\Downloads\\my\\anaconda\\envs\\env1\\lib\\site-packages\\tensorflow\\python\\framework\\ops.py:2041 __init__\n        self._c_op = _create_c_op(self._graph, node_def, inputs,\n    C:\\profili\\U382270\\Downloads\\my\\anaconda\\envs\\env1\\lib\\site-packages\\tensorflow\\python\\framework\\ops.py:1883 _create_c_op\n        raise ValueError(str(e))\n\n    ValueError: Dimensions must be equal, but are 96 and 217 for '{{node Equal}} = Equal[T=DT_FLOAT, incompatible_shape_error=true](Squeeze, Cast_2)' with input shapes: [?,96], [?,217].\n",
     "output_type": "error",
     "traceback": [
      "\u001b[1;31m---------------------------------------------------------------------------\u001b[0m",
      "\u001b[1;31mValueError\u001b[0m                                Traceback (most recent call last)",
      "\u001b[1;32m~\\AppData\\Local\\Temp\\1/ipykernel_18772/1636192345.py\u001b[0m in \u001b[0;36m<module>\u001b[1;34m\u001b[0m\n\u001b[0;32m      1\u001b[0m \u001b[1;31m# This takes a while\u001b[0m\u001b[1;33m\u001b[0m\u001b[1;33m\u001b[0m\u001b[1;33m\u001b[0m\u001b[0m\n\u001b[1;32m----> 2\u001b[1;33m model = fit_seq2seq(X_train, y_train, X_embeddings, y_embeddings, model, build_encoder_decoder=False, \n\u001b[0m\u001b[0;32m      3\u001b[0m                     epochs=1, batch_size=128, verbose=1)\n\u001b[0;32m      4\u001b[0m \u001b[1;31m#model, encoder_model, decoder_model = fit_seq2seq(X_train, y_train, X_embeddings, y_embeddings, model,\u001b[0m\u001b[1;33m\u001b[0m\u001b[1;33m\u001b[0m\u001b[1;33m\u001b[0m\u001b[0m\n\u001b[0;32m      5\u001b[0m \u001b[1;31m#                                                  build_encoder_decoder=True, epochs=10, batch_size=64)\u001b[0m\u001b[1;33m\u001b[0m\u001b[1;33m\u001b[0m\u001b[1;33m\u001b[0m\u001b[0m\n",
      "\u001b[1;32mC:\\profili\\U382270\\Downloads\\my\\py\\nlp\\nlp_utils.py\u001b[0m in \u001b[0;36mfit_seq2seq\u001b[1;34m(X_train, y_train, X_embeddings, y_embeddings, model, build_encoder_decoder, epochs, batch_size, verbose)\u001b[0m\n\u001b[0;32m   1874\u001b[0m \u001b[1;33m\u001b[0m\u001b[0m\n\u001b[0;32m   1875\u001b[0m     \u001b[1;31m## train\u001b[0m\u001b[1;33m\u001b[0m\u001b[1;33m\u001b[0m\u001b[1;33m\u001b[0m\u001b[0m\n\u001b[1;32m-> 1876\u001b[1;33m     training = model.fit(x=[X_train, y_train[:,:-1]], \n\u001b[0m\u001b[0;32m   1877\u001b[0m                          \u001b[0my\u001b[0m\u001b[1;33m=\u001b[0m\u001b[0my_train\u001b[0m\u001b[1;33m.\u001b[0m\u001b[0mreshape\u001b[0m\u001b[1;33m(\u001b[0m\u001b[0my_train\u001b[0m\u001b[1;33m.\u001b[0m\u001b[0mshape\u001b[0m\u001b[1;33m[\u001b[0m\u001b[1;36m0\u001b[0m\u001b[1;33m]\u001b[0m\u001b[1;33m,\u001b[0m \u001b[0my_train\u001b[0m\u001b[1;33m.\u001b[0m\u001b[0mshape\u001b[0m\u001b[1;33m[\u001b[0m\u001b[1;36m1\u001b[0m\u001b[1;33m]\u001b[0m\u001b[1;33m,\u001b[0m \u001b[1;36m1\u001b[0m\u001b[1;33m)\u001b[0m\u001b[1;33m[\u001b[0m\u001b[1;33m:\u001b[0m\u001b[1;33m,\u001b[0m\u001b[1;36m1\u001b[0m\u001b[1;33m:\u001b[0m\u001b[1;33m]\u001b[0m\u001b[1;33m,\u001b[0m\u001b[1;33m\u001b[0m\u001b[1;33m\u001b[0m\u001b[0m\n\u001b[0;32m   1878\u001b[0m                          \u001b[0mbatch_size\u001b[0m\u001b[1;33m=\u001b[0m\u001b[0mbatch_size\u001b[0m\u001b[1;33m,\u001b[0m \u001b[0mepochs\u001b[0m\u001b[1;33m=\u001b[0m\u001b[0mepochs\u001b[0m\u001b[1;33m,\u001b[0m \u001b[0mshuffle\u001b[0m\u001b[1;33m=\u001b[0m\u001b[1;32mTrue\u001b[0m\u001b[1;33m,\u001b[0m \u001b[0mverbose\u001b[0m\u001b[1;33m=\u001b[0m\u001b[0mverbose\u001b[0m\u001b[1;33m,\u001b[0m \u001b[0mvalidation_split\u001b[0m\u001b[1;33m=\u001b[0m\u001b[1;36m0.3\u001b[0m\u001b[1;33m,\u001b[0m\u001b[1;33m\u001b[0m\u001b[1;33m\u001b[0m\u001b[0m\n",
      "\u001b[1;32mC:\\profili\\U382270\\Downloads\\my\\anaconda\\envs\\env1\\lib\\site-packages\\keras\\engine\\training.py\u001b[0m in \u001b[0;36mfit\u001b[1;34m(self, x, y, batch_size, epochs, verbose, callbacks, validation_split, validation_data, shuffle, class_weight, sample_weight, initial_epoch, steps_per_epoch, validation_steps, validation_batch_size, validation_freq, max_queue_size, workers, use_multiprocessing)\u001b[0m\n\u001b[0;32m   1182\u001b[0m                 _r=1):\n\u001b[0;32m   1183\u001b[0m               \u001b[0mcallbacks\u001b[0m\u001b[1;33m.\u001b[0m\u001b[0mon_train_batch_begin\u001b[0m\u001b[1;33m(\u001b[0m\u001b[0mstep\u001b[0m\u001b[1;33m)\u001b[0m\u001b[1;33m\u001b[0m\u001b[1;33m\u001b[0m\u001b[0m\n\u001b[1;32m-> 1184\u001b[1;33m               \u001b[0mtmp_logs\u001b[0m \u001b[1;33m=\u001b[0m \u001b[0mself\u001b[0m\u001b[1;33m.\u001b[0m\u001b[0mtrain_function\u001b[0m\u001b[1;33m(\u001b[0m\u001b[0miterator\u001b[0m\u001b[1;33m)\u001b[0m\u001b[1;33m\u001b[0m\u001b[1;33m\u001b[0m\u001b[0m\n\u001b[0m\u001b[0;32m   1185\u001b[0m               \u001b[1;32mif\u001b[0m \u001b[0mdata_handler\u001b[0m\u001b[1;33m.\u001b[0m\u001b[0mshould_sync\u001b[0m\u001b[1;33m:\u001b[0m\u001b[1;33m\u001b[0m\u001b[1;33m\u001b[0m\u001b[0m\n\u001b[0;32m   1186\u001b[0m                 \u001b[0mcontext\u001b[0m\u001b[1;33m.\u001b[0m\u001b[0masync_wait\u001b[0m\u001b[1;33m(\u001b[0m\u001b[1;33m)\u001b[0m\u001b[1;33m\u001b[0m\u001b[1;33m\u001b[0m\u001b[0m\n",
      "\u001b[1;32mC:\\profili\\U382270\\Downloads\\my\\anaconda\\envs\\env1\\lib\\site-packages\\tensorflow\\python\\eager\\def_function.py\u001b[0m in \u001b[0;36m__call__\u001b[1;34m(self, *args, **kwds)\u001b[0m\n\u001b[0;32m    883\u001b[0m \u001b[1;33m\u001b[0m\u001b[0m\n\u001b[0;32m    884\u001b[0m       \u001b[1;32mwith\u001b[0m \u001b[0mOptionalXlaContext\u001b[0m\u001b[1;33m(\u001b[0m\u001b[0mself\u001b[0m\u001b[1;33m.\u001b[0m\u001b[0m_jit_compile\u001b[0m\u001b[1;33m)\u001b[0m\u001b[1;33m:\u001b[0m\u001b[1;33m\u001b[0m\u001b[1;33m\u001b[0m\u001b[0m\n\u001b[1;32m--> 885\u001b[1;33m         \u001b[0mresult\u001b[0m \u001b[1;33m=\u001b[0m \u001b[0mself\u001b[0m\u001b[1;33m.\u001b[0m\u001b[0m_call\u001b[0m\u001b[1;33m(\u001b[0m\u001b[1;33m*\u001b[0m\u001b[0margs\u001b[0m\u001b[1;33m,\u001b[0m \u001b[1;33m**\u001b[0m\u001b[0mkwds\u001b[0m\u001b[1;33m)\u001b[0m\u001b[1;33m\u001b[0m\u001b[1;33m\u001b[0m\u001b[0m\n\u001b[0m\u001b[0;32m    886\u001b[0m \u001b[1;33m\u001b[0m\u001b[0m\n\u001b[0;32m    887\u001b[0m       \u001b[0mnew_tracing_count\u001b[0m \u001b[1;33m=\u001b[0m \u001b[0mself\u001b[0m\u001b[1;33m.\u001b[0m\u001b[0mexperimental_get_tracing_count\u001b[0m\u001b[1;33m(\u001b[0m\u001b[1;33m)\u001b[0m\u001b[1;33m\u001b[0m\u001b[1;33m\u001b[0m\u001b[0m\n",
      "\u001b[1;32mC:\\profili\\U382270\\Downloads\\my\\anaconda\\envs\\env1\\lib\\site-packages\\tensorflow\\python\\eager\\def_function.py\u001b[0m in \u001b[0;36m_call\u001b[1;34m(self, *args, **kwds)\u001b[0m\n\u001b[0;32m    931\u001b[0m       \u001b[1;31m# This is the first call of __call__, so we have to initialize.\u001b[0m\u001b[1;33m\u001b[0m\u001b[1;33m\u001b[0m\u001b[1;33m\u001b[0m\u001b[0m\n\u001b[0;32m    932\u001b[0m       \u001b[0minitializers\u001b[0m \u001b[1;33m=\u001b[0m \u001b[1;33m[\u001b[0m\u001b[1;33m]\u001b[0m\u001b[1;33m\u001b[0m\u001b[1;33m\u001b[0m\u001b[0m\n\u001b[1;32m--> 933\u001b[1;33m       \u001b[0mself\u001b[0m\u001b[1;33m.\u001b[0m\u001b[0m_initialize\u001b[0m\u001b[1;33m(\u001b[0m\u001b[0margs\u001b[0m\u001b[1;33m,\u001b[0m \u001b[0mkwds\u001b[0m\u001b[1;33m,\u001b[0m \u001b[0madd_initializers_to\u001b[0m\u001b[1;33m=\u001b[0m\u001b[0minitializers\u001b[0m\u001b[1;33m)\u001b[0m\u001b[1;33m\u001b[0m\u001b[1;33m\u001b[0m\u001b[0m\n\u001b[0m\u001b[0;32m    934\u001b[0m     \u001b[1;32mfinally\u001b[0m\u001b[1;33m:\u001b[0m\u001b[1;33m\u001b[0m\u001b[1;33m\u001b[0m\u001b[0m\n\u001b[0;32m    935\u001b[0m       \u001b[1;31m# At this point we know that the initialization is complete (or less\u001b[0m\u001b[1;33m\u001b[0m\u001b[1;33m\u001b[0m\u001b[1;33m\u001b[0m\u001b[0m\n",
      "\u001b[1;32mC:\\profili\\U382270\\Downloads\\my\\anaconda\\envs\\env1\\lib\\site-packages\\tensorflow\\python\\eager\\def_function.py\u001b[0m in \u001b[0;36m_initialize\u001b[1;34m(self, args, kwds, add_initializers_to)\u001b[0m\n\u001b[0;32m    757\u001b[0m     \u001b[0mself\u001b[0m\u001b[1;33m.\u001b[0m\u001b[0m_graph_deleter\u001b[0m \u001b[1;33m=\u001b[0m \u001b[0mFunctionDeleter\u001b[0m\u001b[1;33m(\u001b[0m\u001b[0mself\u001b[0m\u001b[1;33m.\u001b[0m\u001b[0m_lifted_initializer_graph\u001b[0m\u001b[1;33m)\u001b[0m\u001b[1;33m\u001b[0m\u001b[1;33m\u001b[0m\u001b[0m\n\u001b[0;32m    758\u001b[0m     self._concrete_stateful_fn = (\n\u001b[1;32m--> 759\u001b[1;33m         self._stateful_fn._get_concrete_function_internal_garbage_collected(  # pylint: disable=protected-access\n\u001b[0m\u001b[0;32m    760\u001b[0m             *args, **kwds))\n\u001b[0;32m    761\u001b[0m \u001b[1;33m\u001b[0m\u001b[0m\n",
      "\u001b[1;32mC:\\profili\\U382270\\Downloads\\my\\anaconda\\envs\\env1\\lib\\site-packages\\tensorflow\\python\\eager\\function.py\u001b[0m in \u001b[0;36m_get_concrete_function_internal_garbage_collected\u001b[1;34m(self, *args, **kwargs)\u001b[0m\n\u001b[0;32m   3064\u001b[0m       \u001b[0margs\u001b[0m\u001b[1;33m,\u001b[0m \u001b[0mkwargs\u001b[0m \u001b[1;33m=\u001b[0m \u001b[1;32mNone\u001b[0m\u001b[1;33m,\u001b[0m \u001b[1;32mNone\u001b[0m\u001b[1;33m\u001b[0m\u001b[1;33m\u001b[0m\u001b[0m\n\u001b[0;32m   3065\u001b[0m     \u001b[1;32mwith\u001b[0m \u001b[0mself\u001b[0m\u001b[1;33m.\u001b[0m\u001b[0m_lock\u001b[0m\u001b[1;33m:\u001b[0m\u001b[1;33m\u001b[0m\u001b[1;33m\u001b[0m\u001b[0m\n\u001b[1;32m-> 3066\u001b[1;33m       \u001b[0mgraph_function\u001b[0m\u001b[1;33m,\u001b[0m \u001b[0m_\u001b[0m \u001b[1;33m=\u001b[0m \u001b[0mself\u001b[0m\u001b[1;33m.\u001b[0m\u001b[0m_maybe_define_function\u001b[0m\u001b[1;33m(\u001b[0m\u001b[0margs\u001b[0m\u001b[1;33m,\u001b[0m \u001b[0mkwargs\u001b[0m\u001b[1;33m)\u001b[0m\u001b[1;33m\u001b[0m\u001b[1;33m\u001b[0m\u001b[0m\n\u001b[0m\u001b[0;32m   3067\u001b[0m     \u001b[1;32mreturn\u001b[0m \u001b[0mgraph_function\u001b[0m\u001b[1;33m\u001b[0m\u001b[1;33m\u001b[0m\u001b[0m\n\u001b[0;32m   3068\u001b[0m \u001b[1;33m\u001b[0m\u001b[0m\n",
      "\u001b[1;32mC:\\profili\\U382270\\Downloads\\my\\anaconda\\envs\\env1\\lib\\site-packages\\tensorflow\\python\\eager\\function.py\u001b[0m in \u001b[0;36m_maybe_define_function\u001b[1;34m(self, args, kwargs)\u001b[0m\n\u001b[0;32m   3461\u001b[0m \u001b[1;33m\u001b[0m\u001b[0m\n\u001b[0;32m   3462\u001b[0m           \u001b[0mself\u001b[0m\u001b[1;33m.\u001b[0m\u001b[0m_function_cache\u001b[0m\u001b[1;33m.\u001b[0m\u001b[0mmissed\u001b[0m\u001b[1;33m.\u001b[0m\u001b[0madd\u001b[0m\u001b[1;33m(\u001b[0m\u001b[0mcall_context_key\u001b[0m\u001b[1;33m)\u001b[0m\u001b[1;33m\u001b[0m\u001b[1;33m\u001b[0m\u001b[0m\n\u001b[1;32m-> 3463\u001b[1;33m           \u001b[0mgraph_function\u001b[0m \u001b[1;33m=\u001b[0m \u001b[0mself\u001b[0m\u001b[1;33m.\u001b[0m\u001b[0m_create_graph_function\u001b[0m\u001b[1;33m(\u001b[0m\u001b[0margs\u001b[0m\u001b[1;33m,\u001b[0m \u001b[0mkwargs\u001b[0m\u001b[1;33m)\u001b[0m\u001b[1;33m\u001b[0m\u001b[1;33m\u001b[0m\u001b[0m\n\u001b[0m\u001b[0;32m   3464\u001b[0m           \u001b[0mself\u001b[0m\u001b[1;33m.\u001b[0m\u001b[0m_function_cache\u001b[0m\u001b[1;33m.\u001b[0m\u001b[0mprimary\u001b[0m\u001b[1;33m[\u001b[0m\u001b[0mcache_key\u001b[0m\u001b[1;33m]\u001b[0m \u001b[1;33m=\u001b[0m \u001b[0mgraph_function\u001b[0m\u001b[1;33m\u001b[0m\u001b[1;33m\u001b[0m\u001b[0m\n\u001b[0;32m   3465\u001b[0m \u001b[1;33m\u001b[0m\u001b[0m\n",
      "\u001b[1;32mC:\\profili\\U382270\\Downloads\\my\\anaconda\\envs\\env1\\lib\\site-packages\\tensorflow\\python\\eager\\function.py\u001b[0m in \u001b[0;36m_create_graph_function\u001b[1;34m(self, args, kwargs, override_flat_arg_shapes)\u001b[0m\n\u001b[0;32m   3296\u001b[0m     \u001b[0marg_names\u001b[0m \u001b[1;33m=\u001b[0m \u001b[0mbase_arg_names\u001b[0m \u001b[1;33m+\u001b[0m \u001b[0mmissing_arg_names\u001b[0m\u001b[1;33m\u001b[0m\u001b[1;33m\u001b[0m\u001b[0m\n\u001b[0;32m   3297\u001b[0m     graph_function = ConcreteFunction(\n\u001b[1;32m-> 3298\u001b[1;33m         func_graph_module.func_graph_from_py_func(\n\u001b[0m\u001b[0;32m   3299\u001b[0m             \u001b[0mself\u001b[0m\u001b[1;33m.\u001b[0m\u001b[0m_name\u001b[0m\u001b[1;33m,\u001b[0m\u001b[1;33m\u001b[0m\u001b[1;33m\u001b[0m\u001b[0m\n\u001b[0;32m   3300\u001b[0m             \u001b[0mself\u001b[0m\u001b[1;33m.\u001b[0m\u001b[0m_python_function\u001b[0m\u001b[1;33m,\u001b[0m\u001b[1;33m\u001b[0m\u001b[1;33m\u001b[0m\u001b[0m\n",
      "\u001b[1;32mC:\\profili\\U382270\\Downloads\\my\\anaconda\\envs\\env1\\lib\\site-packages\\tensorflow\\python\\framework\\func_graph.py\u001b[0m in \u001b[0;36mfunc_graph_from_py_func\u001b[1;34m(name, python_func, args, kwargs, signature, func_graph, autograph, autograph_options, add_control_dependencies, arg_names, op_return_value, collections, capture_by_value, override_flat_arg_shapes, acd_record_initial_resource_uses)\u001b[0m\n\u001b[0;32m   1005\u001b[0m         \u001b[0m_\u001b[0m\u001b[1;33m,\u001b[0m \u001b[0moriginal_func\u001b[0m \u001b[1;33m=\u001b[0m \u001b[0mtf_decorator\u001b[0m\u001b[1;33m.\u001b[0m\u001b[0munwrap\u001b[0m\u001b[1;33m(\u001b[0m\u001b[0mpython_func\u001b[0m\u001b[1;33m)\u001b[0m\u001b[1;33m\u001b[0m\u001b[1;33m\u001b[0m\u001b[0m\n\u001b[0;32m   1006\u001b[0m \u001b[1;33m\u001b[0m\u001b[0m\n\u001b[1;32m-> 1007\u001b[1;33m       \u001b[0mfunc_outputs\u001b[0m \u001b[1;33m=\u001b[0m \u001b[0mpython_func\u001b[0m\u001b[1;33m(\u001b[0m\u001b[1;33m*\u001b[0m\u001b[0mfunc_args\u001b[0m\u001b[1;33m,\u001b[0m \u001b[1;33m**\u001b[0m\u001b[0mfunc_kwargs\u001b[0m\u001b[1;33m)\u001b[0m\u001b[1;33m\u001b[0m\u001b[1;33m\u001b[0m\u001b[0m\n\u001b[0m\u001b[0;32m   1008\u001b[0m \u001b[1;33m\u001b[0m\u001b[0m\n\u001b[0;32m   1009\u001b[0m       \u001b[1;31m# invariant: `func_outputs` contains only Tensors, CompositeTensors,\u001b[0m\u001b[1;33m\u001b[0m\u001b[1;33m\u001b[0m\u001b[1;33m\u001b[0m\u001b[0m\n",
      "\u001b[1;32mC:\\profili\\U382270\\Downloads\\my\\anaconda\\envs\\env1\\lib\\site-packages\\tensorflow\\python\\eager\\def_function.py\u001b[0m in \u001b[0;36mwrapped_fn\u001b[1;34m(*args, **kwds)\u001b[0m\n\u001b[0;32m    666\u001b[0m         \u001b[1;31m# the function a weak reference to itself to avoid a reference cycle.\u001b[0m\u001b[1;33m\u001b[0m\u001b[1;33m\u001b[0m\u001b[1;33m\u001b[0m\u001b[0m\n\u001b[0;32m    667\u001b[0m         \u001b[1;32mwith\u001b[0m \u001b[0mOptionalXlaContext\u001b[0m\u001b[1;33m(\u001b[0m\u001b[0mcompile_with_xla\u001b[0m\u001b[1;33m)\u001b[0m\u001b[1;33m:\u001b[0m\u001b[1;33m\u001b[0m\u001b[1;33m\u001b[0m\u001b[0m\n\u001b[1;32m--> 668\u001b[1;33m           \u001b[0mout\u001b[0m \u001b[1;33m=\u001b[0m \u001b[0mweak_wrapped_fn\u001b[0m\u001b[1;33m(\u001b[0m\u001b[1;33m)\u001b[0m\u001b[1;33m.\u001b[0m\u001b[0m__wrapped__\u001b[0m\u001b[1;33m(\u001b[0m\u001b[1;33m*\u001b[0m\u001b[0margs\u001b[0m\u001b[1;33m,\u001b[0m \u001b[1;33m**\u001b[0m\u001b[0mkwds\u001b[0m\u001b[1;33m)\u001b[0m\u001b[1;33m\u001b[0m\u001b[1;33m\u001b[0m\u001b[0m\n\u001b[0m\u001b[0;32m    669\u001b[0m         \u001b[1;32mreturn\u001b[0m \u001b[0mout\u001b[0m\u001b[1;33m\u001b[0m\u001b[1;33m\u001b[0m\u001b[0m\n\u001b[0;32m    670\u001b[0m \u001b[1;33m\u001b[0m\u001b[0m\n",
      "\u001b[1;32mC:\\profili\\U382270\\Downloads\\my\\anaconda\\envs\\env1\\lib\\site-packages\\tensorflow\\python\\framework\\func_graph.py\u001b[0m in \u001b[0;36mwrapper\u001b[1;34m(*args, **kwargs)\u001b[0m\n\u001b[0;32m    992\u001b[0m           \u001b[1;32mexcept\u001b[0m \u001b[0mException\u001b[0m \u001b[1;32mas\u001b[0m \u001b[0me\u001b[0m\u001b[1;33m:\u001b[0m  \u001b[1;31m# pylint:disable=broad-except\u001b[0m\u001b[1;33m\u001b[0m\u001b[1;33m\u001b[0m\u001b[0m\n\u001b[0;32m    993\u001b[0m             \u001b[1;32mif\u001b[0m \u001b[0mhasattr\u001b[0m\u001b[1;33m(\u001b[0m\u001b[0me\u001b[0m\u001b[1;33m,\u001b[0m \u001b[1;34m\"ag_error_metadata\"\u001b[0m\u001b[1;33m)\u001b[0m\u001b[1;33m:\u001b[0m\u001b[1;33m\u001b[0m\u001b[1;33m\u001b[0m\u001b[0m\n\u001b[1;32m--> 994\u001b[1;33m               \u001b[1;32mraise\u001b[0m \u001b[0me\u001b[0m\u001b[1;33m.\u001b[0m\u001b[0mag_error_metadata\u001b[0m\u001b[1;33m.\u001b[0m\u001b[0mto_exception\u001b[0m\u001b[1;33m(\u001b[0m\u001b[0me\u001b[0m\u001b[1;33m)\u001b[0m\u001b[1;33m\u001b[0m\u001b[1;33m\u001b[0m\u001b[0m\n\u001b[0m\u001b[0;32m    995\u001b[0m             \u001b[1;32melse\u001b[0m\u001b[1;33m:\u001b[0m\u001b[1;33m\u001b[0m\u001b[1;33m\u001b[0m\u001b[0m\n\u001b[0;32m    996\u001b[0m               \u001b[1;32mraise\u001b[0m\u001b[1;33m\u001b[0m\u001b[1;33m\u001b[0m\u001b[0m\n",
      "\u001b[1;31mValueError\u001b[0m: in user code:\n\n    C:\\profili\\U382270\\Downloads\\my\\anaconda\\envs\\env1\\lib\\site-packages\\keras\\engine\\training.py:853 train_function  *\n        return step_function(self, iterator)\n    C:\\profili\\U382270\\Downloads\\my\\anaconda\\envs\\env1\\lib\\site-packages\\keras\\engine\\training.py:842 step_function  **\n        outputs = model.distribute_strategy.run(run_step, args=(data,))\n    C:\\profili\\U382270\\Downloads\\my\\anaconda\\envs\\env1\\lib\\site-packages\\tensorflow\\python\\distribute\\distribute_lib.py:1286 run\n        return self._extended.call_for_each_replica(fn, args=args, kwargs=kwargs)\n    C:\\profili\\U382270\\Downloads\\my\\anaconda\\envs\\env1\\lib\\site-packages\\tensorflow\\python\\distribute\\distribute_lib.py:2849 call_for_each_replica\n        return self._call_for_each_replica(fn, args, kwargs)\n    C:\\profili\\U382270\\Downloads\\my\\anaconda\\envs\\env1\\lib\\site-packages\\tensorflow\\python\\distribute\\distribute_lib.py:3632 _call_for_each_replica\n        return fn(*args, **kwargs)\n    C:\\profili\\U382270\\Downloads\\my\\anaconda\\envs\\env1\\lib\\site-packages\\keras\\engine\\training.py:835 run_step  **\n        outputs = model.train_step(data)\n    C:\\profili\\U382270\\Downloads\\my\\anaconda\\envs\\env1\\lib\\site-packages\\keras\\engine\\training.py:792 train_step\n        self.compiled_metrics.update_state(y, y_pred, sample_weight)\n    C:\\profili\\U382270\\Downloads\\my\\anaconda\\envs\\env1\\lib\\site-packages\\keras\\engine\\compile_utils.py:457 update_state\n        metric_obj.update_state(y_t, y_p, sample_weight=mask)\n    C:\\profili\\U382270\\Downloads\\my\\anaconda\\envs\\env1\\lib\\site-packages\\keras\\utils\\metrics_utils.py:73 decorated\n        update_op = update_state_fn(*args, **kwargs)\n    C:\\profili\\U382270\\Downloads\\my\\anaconda\\envs\\env1\\lib\\site-packages\\keras\\metrics.py:177 update_state_fn\n        return ag_update_state(*args, **kwargs)\n    C:\\profili\\U382270\\Downloads\\my\\anaconda\\envs\\env1\\lib\\site-packages\\keras\\metrics.py:681 update_state  **\n        matches = ag_fn(y_true, y_pred, **self._fn_kwargs)\n    C:\\profili\\U382270\\Downloads\\my\\anaconda\\envs\\env1\\lib\\site-packages\\tensorflow\\python\\util\\dispatch.py:206 wrapper\n        return target(*args, **kwargs)\n    C:\\profili\\U382270\\Downloads\\my\\anaconda\\envs\\env1\\lib\\site-packages\\keras\\metrics.py:3537 sparse_categorical_accuracy\n        return tf.cast(tf.equal(y_true, y_pred), backend.floatx())\n    C:\\profili\\U382270\\Downloads\\my\\anaconda\\envs\\env1\\lib\\site-packages\\tensorflow\\python\\util\\dispatch.py:206 wrapper\n        return target(*args, **kwargs)\n    C:\\profili\\U382270\\Downloads\\my\\anaconda\\envs\\env1\\lib\\site-packages\\tensorflow\\python\\ops\\math_ops.py:1864 equal\n        return gen_math_ops.equal(x, y, name=name)\n    C:\\profili\\U382270\\Downloads\\my\\anaconda\\envs\\env1\\lib\\site-packages\\tensorflow\\python\\ops\\gen_math_ops.py:3216 equal\n        _, _, _op, _outputs = _op_def_library._apply_op_helper(\n    C:\\profili\\U382270\\Downloads\\my\\anaconda\\envs\\env1\\lib\\site-packages\\tensorflow\\python\\framework\\op_def_library.py:748 _apply_op_helper\n        op = g._create_op_internal(op_type_name, inputs, dtypes=None,\n    C:\\profili\\U382270\\Downloads\\my\\anaconda\\envs\\env1\\lib\\site-packages\\tensorflow\\python\\framework\\func_graph.py:599 _create_op_internal\n        return super(FuncGraph, self)._create_op_internal(  # pylint: disable=protected-access\n    C:\\profili\\U382270\\Downloads\\my\\anaconda\\envs\\env1\\lib\\site-packages\\tensorflow\\python\\framework\\ops.py:3561 _create_op_internal\n        ret = Operation(\n    C:\\profili\\U382270\\Downloads\\my\\anaconda\\envs\\env1\\lib\\site-packages\\tensorflow\\python\\framework\\ops.py:2041 __init__\n        self._c_op = _create_c_op(self._graph, node_def, inputs,\n    C:\\profili\\U382270\\Downloads\\my\\anaconda\\envs\\env1\\lib\\site-packages\\tensorflow\\python\\framework\\ops.py:1883 _create_c_op\n        raise ValueError(str(e))\n\n    ValueError: Dimensions must be equal, but are 96 and 217 for '{{node Equal}} = Equal[T=DT_FLOAT, incompatible_shape_error=true](Squeeze, Cast_2)' with input shapes: [?,96], [?,217].\n"
     ]
    }
   ],
   "source": [
    "# This takes a while\n",
    "model = fit_seq2seq(X_train, y_train, X_embeddings, y_embeddings, model, build_encoder_decoder=False, \n",
    "                    epochs=1, batch_size=128, verbose=1)\n",
    "#model, encoder_model, decoder_model = fit_seq2seq(X_train, y_train, X_embeddings, y_embeddings, model, \n",
    "#                                                  build_encoder_decoder=True, epochs=10, batch_size=64)"
   ]
  },
  {
   "cell_type": "markdown",
   "metadata": {},
   "source": [
    "###### Test"
   ]
  },
  {
   "cell_type": "code",
   "execution_count": 43,
   "metadata": {},
   "outputs": [
    {
     "name": "stdout",
     "output_type": "stream",
     "text": [
      "Model: \"Prediction_Encoder\"\n",
      "__________________________________________________________________________________________________\n",
      "Layer (type)                    Output Shape         Param #     Connected to                     \n",
      "==================================================================================================\n",
      "x_in (InputLayer)               [(None, 217)]        0                                            \n",
      "__________________________________________________________________________________________________\n",
      "x_emb (Embedding)               (None, 217, 300)     2958000     x_in[0][0]                       \n",
      "__________________________________________________________________________________________________\n",
      "attention (Attention)           (None, 217, 300)     0           x_emb[0][0]                      \n",
      "                                                                 x_emb[0][0]                      \n",
      "__________________________________________________________________________________________________\n",
      "x_lstm_1 (Bidirectional)        [(None, 217, 500), ( 1102000     attention[0][0]                  \n",
      "__________________________________________________________________________________________________\n",
      "x_lstm_2 (Bidirectional)        [(None, 217, 500), ( 1502000     x_lstm_1[0][0]                   \n",
      "__________________________________________________________________________________________________\n",
      "x_lstm_3 (Bidirectional)        [(None, 217, 500), ( 1502000     x_lstm_2[0][0]                   \n",
      "__________________________________________________________________________________________________\n",
      "concatenate (Concatenate)       (None, 500)          0           x_lstm_3[0][1]                   \n",
      "                                                                 x_lstm_3[0][3]                   \n",
      "__________________________________________________________________________________________________\n",
      "concatenate_1 (Concatenate)     (None, 500)          0           x_lstm_3[0][2]                   \n",
      "                                                                 x_lstm_3[0][4]                   \n",
      "==================================================================================================\n",
      "Total params: 7,064,000\n",
      "Trainable params: 4,106,000\n",
      "Non-trainable params: 2,958,000\n",
      "__________________________________________________________________________________________________\n"
     ]
    }
   ],
   "source": [
    "# Prediction Encoder\n",
    "encoder_model = models.Model(inputs=x_in, outputs=[x_out, state_h, state_c], name=\"Prediction_Encoder\")\n",
    "encoder_model.summary()"
   ]
  },
  {
   "cell_type": "code",
   "execution_count": 90,
   "metadata": {},
   "outputs": [
    {
     "name": "stdout",
     "output_type": "stream",
     "text": [
      "250\n",
      "500\n",
      "Model: \"Prediction_Decoder\"\n",
      "__________________________________________________________________________________________________\n",
      "Layer (type)                    Output Shape         Param #     Connected to                     \n",
      "==================================================================================================\n",
      "y_in (InputLayer)               [(None, None)]       0                                            \n",
      "__________________________________________________________________________________________________\n",
      "y_emb (Embedding)               (None, None, 300)    1731900     y_in[0][0]                       \n",
      "__________________________________________________________________________________________________\n",
      "input_53 (InputLayer)           [(None, 500)]        0                                            \n",
      "__________________________________________________________________________________________________\n",
      "input_54 (InputLayer)           [(None, 500)]        0                                            \n",
      "__________________________________________________________________________________________________\n",
      "y_lstm (LSTM)                   [(None, None, 500),  1602000     y_emb[1][0]                      \n",
      "                                                                 input_53[0][0]                   \n",
      "                                                                 input_54[0][0]                   \n",
      "__________________________________________________________________________________________________\n",
      "input_52 (InputLayer)           [(None, 217, 500)]   0                                            \n",
      "__________________________________________________________________________________________________\n",
      "dense (TimeDistributed)         (None, None, 5773)   2892273     y_lstm[1][0]                     \n",
      "==================================================================================================\n",
      "Total params: 6,226,173\n",
      "Trainable params: 4,494,273\n",
      "Non-trainable params: 1,731,900\n",
      "__________________________________________________________________________________________________\n"
     ]
    }
   ],
   "source": [
    "# Prediction Decoder\n",
    "## double the lstm units if you used bidirectional lstm\n",
    "lstm_units = lstm_units*2 if any(\"Bidirectional\" in str(layer) for layer in model.layers) else lstm_units\n",
    "\n",
    "## states of the previous time step\n",
    "x_out2 = layers.Input(shape=(X_train.shape[1], lstm_units))\n",
    "state_h, state_c = layers.Input(shape=(lstm_units,)), layers.Input(shape=(lstm_units,))\n",
    "\n",
    "## decoder embeddings\n",
    "y_emb2 = layer_y_emb(y_in)\n",
    "\n",
    "## lstm to predict the next word\n",
    "y_out2, new_state_h, new_state_c = layer_y_lstm(y_emb2, initial_state=[state_h, state_c])\n",
    "\n",
    "## attention\n",
    "if any(\"Attention\" in str(layer) for layer in model.layers):\n",
    "    attention = layer_attention([x_out2, y_out2])\n",
    "    merge = layers.Concatenate(name='merge', axis=-1)([y_out2, attention])\n",
    "\n",
    "## softmax to generate probability distribution over the target vocabulary\n",
    "probs = layer_dense(y_out2)\n",
    "\n",
    "## compile\n",
    "decoder_model = models.Model(inputs=[y_in, x_out2, state_h, state_c], \n",
    "                             outputs=[probs, new_state_h, new_state_c],\n",
    "                             name=\"Prediction_Decoder\")\n",
    "decoder_model.summary()"
   ]
  },
  {
   "cell_type": "code",
   "execution_count": 91,
   "metadata": {},
   "outputs": [],
   "source": [
    "predicted = predict_seq2seq(X_test, encoder_model, decoder_model, y_tokenizer, special_tokens)"
   ]
  },
  {
   "cell_type": "code",
   "execution_count": 92,
   "metadata": {},
   "outputs": [
    {
     "name": "stdout",
     "output_type": "stream",
     "text": [
      "rouge1: 0.0 | rouge2: 0.0 | rougeL: 0.0 --> avg rouge: 0.0\n"
     ]
    }
   ],
   "source": [
    "# Evaluate\n",
    "evaluate_summary(dtf_test[\"y_clean\"][i], predicted[i])"
   ]
  },
  {
   "cell_type": "code",
   "execution_count": 93,
   "metadata": {},
   "outputs": [
    {
     "data": {
      "text/html": [
       "<strong>Real Summary</strong><br><START> dollar hit highest level euro almost three months federal reserve head us trade deficit set stabilise chinas currency remains pegged dollar us currencys sharp falls recent months therefore made chinese export prices highly competitive market concerns deficit hit greenback recent monthsi think chairmans taking much sanguine view current account deficit hes taken time robert sinche head currency strategy bank america york recent falls partly result big budget deficits well uss yawning current account gap need funded buying us bonds assets foreign firms governmentshes taking longerterm view laying set conditions current account deficit improve year next <END><br><br><strong>Predicted Summary</strong><br>mr mr mr mr mr mr mr mr mr mr"
      ],
      "text/plain": [
       "<IPython.core.display.HTML object>"
      ]
     },
     "metadata": {},
     "output_type": "display_data"
    }
   ],
   "source": [
    "# Compare y_test and predicted\n",
    "match = display_string_matching(dtf_test[\"y_clean\"][i], predicted[i], both=True, sentences=True, \n",
    "                                titles=[\"Real Summary\", \"Predicted Summary\"])\n",
    "\n",
    "from IPython.core.display import display, HTML\n",
    "display(HTML(match))"
   ]
  },
  {
   "cell_type": "code",
   "execution_count": 94,
   "metadata": {},
   "outputs": [
    {
     "data": {
      "text/html": [
       "<strong>Full Text</strong><br>dollar gains greenspan speech dollar hit highest level euro almost three months federal reserve head us trade deficit set stabilise alan greenspan highlighted us governments willingness curb spending rising household savings factors may help reduce late trading york dollar reached 12871 euro 12974 thursday market concerns deficit hit greenback recent months friday federal reserve chairman mr greenspans speech london ahead meeting g7 finance ministers sent dollar higher earlier tumbled back worsethanexpected us jobs data think chairmans taking much sanguine view current account deficit hes taken time robert sinche head currency strategy bank america york hes taking longerterm view laying set conditions current account deficit improve year next worries deficit concerns china however remain chinas currency remains pegged dollar us currencys sharp falls recent months therefore made chinese export prices highly competitive calls shift beijings policy fallen deaf ears despite recent comments major chinese newspaper time ripe loosening peg g7 meeting thought unlikely produce meaningful movement chinese policy meantime us federal reserves decision 2 february boost interest rates quarter point sixth move many months opened differential european rates halfpoint window believe could enough keep us assets looking attractive could help prop dollar recent falls partly result big budget deficits well uss yawning current account gap need funded buying us bonds assets foreign firms governments white house announce budget monday many commentators believe deficit remain close half trillion dollars<br><br><strong>Predicted Summary</strong><br>mr mr mr mr mr mr mr mr mr mr"
      ],
      "text/plain": [
       "<IPython.core.display.HTML object>"
      ]
     },
     "metadata": {},
     "output_type": "display_data"
    }
   ],
   "source": [
    "# Explainability\n",
    "match = display_string_matching(dtf_test[\"text_clean\"][i], predicted[i], both=True, sentences=True, \n",
    "                                titles=[\"Full Text\", \"Predicted Summary\"])\n",
    "\n",
    "from IPython.core.display import display, HTML\n",
    "display(HTML(match))"
   ]
  },
  {
   "cell_type": "markdown",
   "metadata": {},
   "source": [
    "### 5 - Model (Abstractive: Language model)"
   ]
  },
  {
   "cell_type": "code",
   "execution_count": 96,
   "metadata": {},
   "outputs": [],
   "source": [
    "# Test (no Train)\n",
    "predicted = bart(corpus=[dtf_test[\"text\"]], ratio=ratio)\n",
    "predicted = predicted[0]"
   ]
  },
  {
   "cell_type": "code",
   "execution_count": 97,
   "metadata": {},
   "outputs": [
    {
     "name": "stdout",
     "output_type": "stream",
     "text": [
      "rouge1: 0.39 | rouge2: 0.15 | rougeL: 0.15 --> avg rouge: 0.31\n"
     ]
    }
   ],
   "source": [
    "# Evaluate\n",
    "evaluate_summary(y_test, predicted)"
   ]
  },
  {
   "cell_type": "code",
   "execution_count": 98,
   "metadata": {},
   "outputs": [
    {
     "data": {
      "text/html": [
       "<strong>Real Summary</strong><br>The plan is likely to give creditors of Parmalat Finanziaria shares worth about 5.7% of the debts they are owed. Creditors of Parmalat, the main operating company, are likely to see the percentage of debt they receive fall from 7.3% to 6.9%. As part of the re-listing on the Italian stock exchange, creditors' debts are expected to be converted into shares through two new share issues amounting to more than 2bn euros. In a statement issued on Wednesday night, Parmalat Finanziaria detailed administrators' latest plans for re-listing the shares of the group. Parmalat, the Italian dairy company which went bust after an accounting scandal, hopes to be back on the Italian stock exchange in July.<br><br><strong>Predicted Summary</strong><br> Parmalat went bust in 2003 after revealing debts of 14bn euros ($18.34bn; £9.6bn) The dairy firm gained protection from creditors in 2003. Creditors' debts are expected to be converted into shares through two new share issues. The company's creditors will be asked to vote on the plan later this year. Lawmakers say turnaround specialist Enrico Bondi spoke positively about the company during a closed-door hearing of the Chamber of Deputies industry commission. Several former top executives are under investigation for the fraud scandal at the dairy firm.,"
      ],
      "text/plain": [
       "<IPython.core.display.HTML object>"
      ]
     },
     "metadata": {},
     "output_type": "display_data"
    }
   ],
   "source": [
    "# Compare y_test and predicted\n",
    "match = display_string_matching(y_test, predicted, both=True, sentences=True, \n",
    "                                titles=[\"Real Summary\", \"Predicted Summary\"])\n",
    "\n",
    "from IPython.core.display import display, HTML\n",
    "display(HTML(match))"
   ]
  },
  {
   "cell_type": "code",
   "execution_count": 99,
   "metadata": {},
   "outputs": [
    {
     "data": {
      "text/html": [
       "<strong>Full Text</strong><br>Parmalat to return to stockmarket Parmalat, the Italian dairy company which went bust after an accounting scandal, hopes to be back on the Italian stock exchange in July. The firm gained protection from creditors in 2003 after revealing debts of 14bn euros ($18.34bn; £9.6bn). This was eight times higher than it had previously stated. In a statement issued on Wednesday night, Parmalat Finanziaria detailed administrators' latest plans for re-listing the shares of the group. As part of the re-listing on the Italian stock exchange, creditors' debts are expected to be converted into shares through two new share issues amounting to more than 2bn euros. <span style=\"background-color:rgba(255,215,0,0.3);\">The company's creditors will be asked to vote on the plan later this year.</span> The plan is likely to give creditors of Parmalat Finanziaria shares worth about 5.7% of the debts they are owed. This is lower than the 11.3% creditors previously hoped to receive. Creditors of Parmalat, the main operating company, are likely to see the percentage of debt they receive fall from 7.3% to 6.9%. Several former top Parmalat executives are under investigation for the fraud scandal. Lawmakers said on Wednesday night Enrico Bondi, the turnaround specialist appointed by the Italian government as Parmalat's chief executive, spoke positively about the company during a closed-door hearing of the Chamber of Deputies industry commission. \"Bondi supplied us with elements of positive results on the industrial positions and on the history of debt which will find a point of solution through the Parmalat group's quotation on the market in July,\" Italian news agency Apcom quoted several lawmakers as saying in a statement.<br><br><strong>Predicted Summary</strong><br> Parmalat went bust in 2003 after revealing debts of 14bn euros ($18.34bn; £9.6bn) The dairy firm gained protection from creditors in 2003. Creditors' debts are expected to be converted into shares through two new share issues. The company's creditors will be asked to vote on the plan later this year. Lawmakers say turnaround specialist Enrico Bondi spoke positively about the company during a closed-door hearing of the Chamber of Deputies industry commission. Several former top executives are under investigation for the fraud scandal at the dairy firm.,"
      ],
      "text/plain": [
       "<IPython.core.display.HTML object>"
      ]
     },
     "metadata": {},
     "output_type": "display_data"
    }
   ],
   "source": [
    "# Explainability\n",
    "match = display_string_matching(dtf_test[\"text_clean\"], predicted, both=True, sentences=True, \n",
    "                                titles=[\"Full Text\", \"Predicted Summary\"])\n",
    "\n",
    "from IPython.core.display import display, HTML\n",
    "display(HTML(match))"
   ]
  }
 ],
 "metadata": {
  "kernelspec": {
   "display_name": "Python 3 (ipykernel)",
   "language": "python",
   "name": "python3"
  },
  "language_info": {
   "codemirror_mode": {
    "name": "ipython",
    "version": 3
   },
   "file_extension": ".py",
   "mimetype": "text/x-python",
   "name": "python",
   "nbconvert_exporter": "python",
   "pygments_lexer": "ipython3",
   "version": "3.8.12"
  }
 },
 "nbformat": 4,
 "nbformat_minor": 4
}
